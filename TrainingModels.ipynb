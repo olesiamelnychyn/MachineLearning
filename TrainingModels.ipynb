{
  "nbformat": 4,
  "nbformat_minor": 0,
  "metadata": {
    "colab": {
      "name": "IAU3.ipynb",
      "provenance": [],
      "collapsed_sections": [
        "1j9Se5MsRvZR",
        "YUgFzJcc_pel",
        "rflEBRxqu5io",
        "vXcE7ScLu808",
        "JF_dA5Tnvn3U",
        "LQnQ2UhFwBts",
        "nUpyi5nfxDoo",
        "lAu7WvfS0K_N",
        "KV_qjHGCI1ha",
        "70GrIGuRJe_L",
        "fMq8BXesL6jl",
        "RJWtfRSo0Mzq",
        "PAqp2Dca0PIn",
        "uYCLPdFp8Kd6",
        "funqFImAFn1S"
      ],
      "toc_visible": true
    },
    "kernelspec": {
      "name": "python3",
      "display_name": "Python 3"
    }
  },
  "cells": [
    {
      "cell_type": "markdown",
      "metadata": {
        "id": "1j9Se5MsRvZR"
      },
      "source": [
        "# Imports\n"
      ]
    },
    {
      "cell_type": "code",
      "metadata": {
        "id": "Sv2VRfyRanQ2",
        "colab": {
          "base_uri": "https://localhost:8080/"
        },
        "outputId": "895bda2e-dcad-4269-f4c2-01bf5c9350b6"
      },
      "source": [
        "import matplotlib\n",
        "import matplotlib.pylab as pylab\n",
        "import matplotlib.pyplot as plt\n",
        "import seaborn as sns\n",
        "import pandas as pd\n",
        "import numpy as np\n",
        "import scipy.stats as stats\n",
        "import statsmodels.stats.api as sms\n",
        "import statsmodels.api as sm\n",
        "import statsmodels.stats as stats1\n",
        "import matplotlib.pyplot as pyplot\n",
        "from sklearn.impute import SimpleImputer\n",
        "from sklearn.impute import KNNImputer\n",
        "from sklearn.cluster import DBSCAN\n",
        "from sklearn.pipeline import Pipeline\n",
        "from sklearn.preprocessing import FunctionTransformer\n",
        "from sklearn.preprocessing import PowerTransformer\n",
        "from scipy.stats import iqr\n",
        "from sklearn.externals import joblib\n",
        "from sklearn.feature_extraction.text import CountVectorizer\n",
        "from sklearn.tree import DecisionTreeClassifier\n",
        "from IPython.display import HTML # toto je tu len pre to aby sa mi obrazok zmestil na obrazovku\n",
        "from sklearn.tree import export_graphviz\n",
        "from graphviz import Source\n",
        "from IPython.display import SVG\n",
        "from sklearn.metrics import accuracy_score\n",
        "from sklearn.metrics import precision_score\n",
        "from sklearn.metrics import recall_score\n",
        "from sklearn.model_selection import train_test_split\n",
        "from sklearn.model_selection import validation_curve\n",
        "from sklearn.model_selection import GridSearchCV"
      ],
      "execution_count": null,
      "outputs": [
        {
          "output_type": "stream",
          "text": [
            "/usr/local/lib/python3.6/dist-packages/statsmodels/tools/_testing.py:19: FutureWarning: pandas.util.testing is deprecated. Use the functions in the public API at pandas.testing instead.\n",
            "  import pandas.util.testing as tm\n",
            "/usr/local/lib/python3.6/dist-packages/sklearn/externals/joblib/__init__.py:15: FutureWarning: sklearn.externals.joblib is deprecated in 0.21 and will be removed in 0.23. Please import this functionality directly from joblib, which can be installed with: pip install joblib. If this warning is raised when loading pickled models, you may need to re-serialize those models with scikit-learn 0.21+.\n",
            "  warnings.warn(msg, category=FutureWarning)\n"
          ],
          "name": "stderr"
        }
      ]
    },
    {
      "cell_type": "markdown",
      "metadata": {
        "id": "YUgFzJcc_pel"
      },
      "source": [
        "# Pipeline declaration"
      ]
    },
    {
      "cell_type": "markdown",
      "metadata": {
        "id": "rflEBRxqu5io"
      },
      "source": [
        "#### Duplicates"
      ]
    },
    {
      "cell_type": "code",
      "metadata": {
        "id": "BwI1Y0RUtUYH"
      },
      "source": [
        "def remove_duplicates(df_t):\n",
        "  filledgroups_f = df_t.groupby([\"name\", \"address\"]).apply(lambda x: x.ffill().bfill())\n",
        "  df_t = filledgroups_f\n",
        "  df_t.drop_duplicates(inplace=True)\n",
        "  df_t = df_t.reset_index(drop=True)\n",
        "  return df_t"
      ],
      "execution_count": null,
      "outputs": []
    },
    {
      "cell_type": "markdown",
      "metadata": {
        "id": "vXcE7ScLu808"
      },
      "source": [
        "#### Date format"
      ]
    },
    {
      "cell_type": "code",
      "metadata": {
        "id": "CPEo8OtNu8LD"
      },
      "source": [
        "def future_date(x):\n",
        "  if (pd.to_datetime(x) > pd.to_datetime('01/01/2018')):\n",
        "    return (pd.to_datetime(x)-pd.DateOffset(years=100)).strftime('%d/%m/%Y')\n",
        "  else:\n",
        "    return x\n",
        "\n",
        "def dateformat_consistent(df_t):\n",
        "  df_t.date_of_birth = df_t.date_of_birth.apply(lambda x: pd.to_datetime(x[:10], yearfirst=True).strftime('%d/%m/%Y'))\n",
        "  df_t.date_of_birth=df_t.date_of_birth.apply(future_date)\n",
        "  return df_t"
      ],
      "execution_count": null,
      "outputs": []
    },
    {
      "cell_type": "markdown",
      "metadata": {
        "id": "JF_dA5Tnvn3U"
      },
      "source": [
        "#### Age"
      ]
    },
    {
      "cell_type": "code",
      "metadata": {
        "id": "MQFtgECCvnSs"
      },
      "source": [
        "def age_to_normal(df_t):\n",
        "  now = pd.to_datetime('now')\n",
        "  df_t.age =(now - pd.to_datetime(df_t.date_of_birth)).astype('<m8[Y]').astype(\"int64\")\n",
        "  return df_t"
      ],
      "execution_count": null,
      "outputs": []
    },
    {
      "cell_type": "markdown",
      "metadata": {
        "id": "LQnQ2UhFwBts"
      },
      "source": [
        "#### Gender"
      ]
    },
    {
      "cell_type": "code",
      "metadata": {
        "id": "adbD3lQWwD5B"
      },
      "source": [
        "def gender_to_normal(df_t):\n",
        "  df_t.sex = df_t.sex.apply(lambda x: x[1:])\n",
        "  return df_t"
      ],
      "execution_count": null,
      "outputs": []
    },
    {
      "cell_type": "markdown",
      "metadata": {
        "id": "nUpyi5nfxDoo"
      },
      "source": [
        "#### Pregnancy"
      ]
    },
    {
      "cell_type": "code",
      "metadata": {
        "id": "yRGKtgHKwQUD"
      },
      "source": [
        "def pregnant_to_normal(df_t):\n",
        "  df_t.pregnant = df_t.pregnant.replace(['F', 'FALSE', 'f'], False)\n",
        "  df_t.pregnant = df_t.pregnant.replace(['T', 'TRUE', 't'], True)\n",
        "  df_t.loc[df_t[\"sex\"]=='Male', \"pregnant\"] = False\n",
        "  return df_t"
      ],
      "execution_count": null,
      "outputs": []
    },
    {
      "cell_type": "markdown",
      "metadata": {
        "id": "lAu7WvfS0K_N"
      },
      "source": [
        "#### Metrics"
      ]
    },
    {
      "cell_type": "code",
      "metadata": {
        "id": "Yvw2NsV1xROM"
      },
      "source": [
        "def str_to_float(x):\n",
        "  try:\n",
        "    return float(x)\n",
        "  except ValueError:\n",
        "    return np.nan\n",
        "\n",
        "def metrics(df_t):\n",
        "  df_t.mean_glucose =df_t.mean_glucose.apply(str_to_float)\n",
        "  imp_mean = SimpleImputer(missing_values=np.nan, strategy='mean')\n",
        "  x_t = imp_mean.fit_transform(df_t[[\"mean_glucose\", \"class\"]])\n",
        "  df_t[\"mean_glucose\"]=x_t[:,0]\n",
        "\n",
        "  imp_mean = SimpleImputer(missing_values=np.nan, strategy='mean')\n",
        "  x_t = imp_mean.fit_transform(df_t[[\"kurtosis_glucose\", \"class\"]])\n",
        "  df_t[\"kurtosis_glucose\"]=x_t[:,0]\n",
        "\n",
        "  imp_median = SimpleImputer(missing_values=np.nan, strategy='median')\n",
        "  x_t = imp_median.fit_transform(df_t[[\"std_oxygen\", \"class\"]])\n",
        "  df_t[\"std_oxygen\"]=x_t[:,0]\n",
        "\n",
        "  imp_median = SimpleImputer(missing_values=np.nan, strategy='median')\n",
        "  x_t = imp_median.fit_transform(df_t[[\"kurtosis_oxygen\", \"class\"]])\n",
        "  df_t[\"kurtosis_oxygen\"]=x_t[:,0]\n",
        "\n",
        "  KNN_imputer = KNNImputer(n_neighbors=5, weights='uniform', metric='nan_euclidean')\n",
        "  X_t =KNN_imputer.fit_transform(df_t[['mean_oxygen', 'class']])\n",
        "  df_t.mean_oxygen=X_t[:,0]\n",
        "\n",
        "  KNN_imputer = KNNImputer(n_neighbors=5, weights='uniform', metric='nan_euclidean')\n",
        "  X_t =KNN_imputer.fit_transform(df_t[['std_glucose', 'class']])\n",
        "  df_t.std_glucose=X_t[:,0]\n",
        "\n",
        "  imp_most_frequent = SimpleImputer(missing_values=np.nan, strategy='most_frequent')\n",
        "  x_t = imp_most_frequent.fit_transform(df_t[[\"skewness_oxygen\", \"class\"]])\n",
        "  df_t[\"skewness_oxygen\"]=x_t[:,0]\n",
        "\n",
        "  imp_most_frequent = SimpleImputer(missing_values=np.nan, strategy='most_frequent')\n",
        "  x_t = imp_most_frequent.fit_transform(df_t[[\"skewness_glucose\", \"class\"]])\n",
        "  df_t[\"skewness_glucose\"]=x_t[:,0]\n",
        "\n",
        "  X_t =KNN_imputer.fit_transform(df_t[['class', \"std_glucose\"]])\n",
        "  df_t[\"class\"]=X_t[:,0]\n",
        "  return df_t"
      ],
      "execution_count": null,
      "outputs": []
    },
    {
      "cell_type": "markdown",
      "metadata": {
        "id": "KV_qjHGCI1ha"
      },
      "source": [
        "#### Occupation"
      ]
    },
    {
      "cell_type": "code",
      "metadata": {
        "id": "HPTzoh_gI5j1"
      },
      "source": [
        "def float_to_str(x):\n",
        "  try:\n",
        "    return str(x)\n",
        "  except ValueError:\n",
        "    return \"  \"\n",
        "    \n",
        "def occupation_to_normal(df_t):\n",
        "  occupation =df_t.occupation.apply(float_to_str).replace('nan', \" nan\").apply(lambda x: x[1:])\n",
        "  occupation =occupation.replace('?', np.nan).replace('nan', np.nan).replace('', np.nan)\n",
        "  df_t.occupation=occupation\n",
        "\n",
        "  imp_most_frequent = SimpleImputer(missing_values=np.nan, strategy='most_frequent')\n",
        "  x_t = imp_most_frequent.fit_transform(df_t[[\"occupation\", \"class\"]])\n",
        "  df_t[\"occupation\"]=x_t[:,0]\n",
        "  return df_t"
      ],
      "execution_count": null,
      "outputs": []
    },
    {
      "cell_type": "markdown",
      "metadata": {
        "id": "70GrIGuRJe_L"
      },
      "source": [
        "#### Personal info"
      ]
    },
    {
      "cell_type": "code",
      "metadata": {
        "id": "Gm5SDDf9JeEe"
      },
      "source": [
        "def personal_info_to_normal(df_t):\n",
        "  personal_info=df_t[\"personal_info\"].apply(float_to_str)\n",
        "  personal_info= personal_info.replace(\"nan\", \"nan|nan\\r\\r\\nnan -- nan|nan\")\n",
        "  df_splited=personal_info.apply(float_to_str).str.split(\"|\", n=1)\n",
        "  \n",
        "  df_t[\"race\"]=df_splited.apply(lambda x: x[0]).replace(\"nan\", np.nan)\n",
        "  \n",
        "  df_splited2=df_splited.apply(lambda x:x[1])\n",
        "  \n",
        "  df_t[\"country\"]=df_splited2.str.split(\"\\r\", n=1).apply(lambda x:x[0]).replace(\"nan\", np.nan).replace(\"?\", np.nan)\n",
        "  df_splited3=df_splited2.str.split(\"\\n\", n=1).apply(lambda x:x[1]).str.split(\" -- \", n=1).apply(lambda x:x[1]).str.split(\"|\", n=1)\n",
        "  \n",
        "  df_t[\"marriage\"]=df_splited3.apply(lambda x: x[0]).replace(\"nan\", np.nan)\n",
        "  \n",
        "  df_t[\"family_state\"]=df_splited3.apply(lambda x: x[1]).replace(\"nan\", np.nan)\n",
        "  \n",
        "  df_t.drop('personal_info', axis='columns', inplace=True)\n",
        "  \n",
        "  imp_most_frequent = SimpleImputer(missing_values=np.nan, strategy='most_frequent')\n",
        "  x_t = imp_most_frequent.fit_transform(df_t[[\"race\", \"class\"]])\n",
        "  df_t[\"race\"]=x_t[:,0]\n",
        "\n",
        "  x_t = imp_most_frequent.fit_transform(df_t[[\"country\", \"class\"]])\n",
        "  df_t[\"country\"]=x_t[:,0]\n",
        "\n",
        "  x_t = imp_most_frequent.fit_transform(df_t[[\"marriage\", \"class\"]])\n",
        "  df_t[\"marriage\"]=x_t[:,0]\n",
        "\n",
        "  x_t = imp_most_frequent.fit_transform(df_t[[\"family_state\", \"class\"]])\n",
        "  df_t[\"family_state\"]=x_t[:,0]\n",
        "\n",
        "  return df_t\n",
        "  "
      ],
      "execution_count": null,
      "outputs": []
    },
    {
      "cell_type": "markdown",
      "metadata": {
        "id": "fMq8BXesL6jl"
      },
      "source": [
        "#### Address"
      ]
    },
    {
      "cell_type": "code",
      "metadata": {
        "id": "vZFDWx0hL-Gz"
      },
      "source": [
        "def get_state(x):\n",
        "  x=x.split(\", \")\n",
        "  if(len(x)>1):\n",
        "    return x[1].split(\" \")[0]\n",
        "  return x[0].split(\" \")[1]\n",
        "\n",
        "def get_postcode(x):\n",
        "  x=x.split(\", \")\n",
        "  if(len(x)>1):\n",
        "    return x[1].split(\" \")[1]\n",
        "  return x[0].split(\" \")[2]\n",
        "\n",
        "def hasNumbers(inputString):\n",
        "  return any(char.isdigit() for char in inputString)\n",
        "\n",
        "def get_city(x):\n",
        "  if( hasNumbers(x) ):\n",
        "    return x.split(\" \")[0]\n",
        "  else: \n",
        "    return x\n",
        "    \n",
        "def address_to_normal(df_t):\n",
        "  address=df_t.address\n",
        "  address=address.replace('nan', 'nan\\r\\nnan, nan nan')\n",
        "  df_t.address=address\n",
        "\n",
        "  df_t[\"street_address\"]=df_t.address.str.split(\"\\r\").apply(lambda x: x[0])\n",
        "\n",
        "  df_t[\"state\"]=df_t.address.str.split(\"\\n\").apply(lambda x: x[1]).apply(get_state)\n",
        "  \n",
        "  df_t[\"postcode\"]=df_t.address.str.split(\"\\n\").apply(lambda x: x[1]).apply(get_postcode)\n",
        "\n",
        "  df_t[\"city\"]=df_t.address.str.split(\"\\n\").apply(lambda x: x[1]).str.split(\",\").apply(lambda x: x[0]).apply(get_city)\n",
        "\n",
        "  df_t.drop('address',\n",
        "  axis='columns', inplace=True)\n",
        "\n",
        "  imp_most_frequent = SimpleImputer(missing_values=np.nan, strategy='most_frequent')\n",
        "  \n",
        "  x_t = imp_most_frequent.fit_transform(df_t[[\"state\", \"class\"]])\n",
        "  df_t[\"state\"]=x_t[:,0]\n",
        "\n",
        "  x_t = imp_most_frequent.fit_transform(df_t[[\"street_address\", \"class\"]])\n",
        "  df_t[\"street_address\"]=x_t[:,0]\n",
        "\n",
        "  x_t = imp_most_frequent.fit_transform(df_t[[\"postcode\", \"class\"]])\n",
        "  df_t[\"postcode\"]=x_t[:,0]\n",
        "\n",
        "  x_t = imp_most_frequent.fit_transform(df_t[[\"city\", \"class\"]])\n",
        "  df_t[\"city\"]=x_t[:,0]\n",
        "\n",
        "  return df_t\n",
        "\n"
      ],
      "execution_count": null,
      "outputs": []
    },
    {
      "cell_type": "markdown",
      "metadata": {
        "id": "RJWtfRSo0Mzq"
      },
      "source": [
        "#### Other information"
      ]
    },
    {
      "cell_type": "code",
      "metadata": {
        "id": "Q2NYF_Rcx7fc"
      },
      "source": [
        "def others_to_normal(df_t):\n",
        "\n",
        "  imp_most_frequent = SimpleImputer(missing_values=np.nan, strategy='most_frequent')\n",
        "\n",
        "  x_t = imp_most_frequent.fit_transform(df_t[[\"fnlwgt\", \"class\"]])\n",
        "  df_t[\"fnlwgt\"]=x_t[:,0]\n",
        "\n",
        "  df_t[\"workclass\"]=df_t.workclass.apply(lambda x: x[1:]).replace(\"?\", np.nan)\n",
        "  x_t = imp_most_frequent.fit_transform(df_t[[\"workclass\", \"class\"]])\n",
        "  df_t[\"workclass\"]=x_t[:,0]\n",
        "\n",
        "  x_t = imp_most_frequent.fit_transform(df_t[[\"income\", \"class\"]])\n",
        "  df_t[\"income\"]=x_t[:,0]\n",
        "  return df_t"
      ],
      "execution_count": null,
      "outputs": []
    },
    {
      "cell_type": "markdown",
      "metadata": {
        "id": "PAqp2Dca0PIn"
      },
      "source": [
        "#### Outliers"
      ]
    },
    {
      "cell_type": "code",
      "metadata": {
        "id": "lrgg6IBw0QvW"
      },
      "source": [
        "def identify_outliers(a, k, q):\n",
        "    med=a.quantile(0.75)-a.quantile(0.25)\n",
        "    lower = df_train.std_oxygen.quantile(q)-k*med\n",
        "    upper=df_train.std_oxygen.quantile(1-q)+k*med\n",
        "    return a[(a > upper) | (a < lower)]\n",
        "\n",
        "def identify_outliers_upper(a, k, q):\n",
        "    med=a.quantile(0.75)-a.quantile(0.25)\n",
        "    lower = df_train.std_oxygen.quantile(q)-k*med\n",
        "    upper=df_train.std_oxygen.quantile(1-q)+k*med\n",
        "    return a[a > upper]\n",
        "\n",
        "def identify_outliers_lower(a, k, q):\n",
        "    med=a.quantile(0.75)-a.quantile(0.25)\n",
        "    lower = df_train.std_oxygen.quantile(q)-k*med\n",
        "    upper=df_train.std_oxygen.quantile(1-q)+k*med\n",
        "    return a[a < lower]\n",
        "\n",
        "def change_outliers(df_t):\n",
        "  df_normal_std_oxygen_1= df_t[\"std_oxygen\"]\n",
        "  df_normal_std_oxygen_out =identify_outliers(df_normal_std_oxygen_1, 0.1, 0.25)\n",
        "  df_t = df_t.drop(df_normal_std_oxygen_out.index)\n",
        "  df_t = df_t.reset_index(drop=True)\n",
        "\n",
        "  df_normal_std_glucose_1= df_t[\"std_glucose\"]\n",
        "  df_normal_std_glucose_out =identify_outliers(df_normal_std_glucose_1,-2.5, 0.05)\n",
        "  df_t = df_t.drop(df_normal_std_glucose_out.index)\n",
        "  df_t = df_t.reset_index(drop=True)\n",
        "\n",
        "  df_normal_skewness_oxygen_1= df_t[\"skewness_oxygen\"]\n",
        "  df_normal_skewness_oxygen_out_1 =identify_outliers_lower(df_normal_skewness_oxygen_1,  0.1, 0.25)\n",
        "  \n",
        "  df_normal_skewness_oxygen_2= df_t[\"skewness_oxygen\"]\n",
        "  df_normal_skewness_oxygen_out_2 =identify_outliers_upper(df_normal_skewness_oxygen_2, 0.1, 0.25)\n",
        "\n",
        "  df_t.loc[df_normal_skewness_oxygen_out_1.index,'skewness_oxygen'] = df_t.skewness_oxygen.quantile(0.05)\n",
        "  df_t.loc[df_normal_skewness_oxygen_out_2.index,'skewness_oxygen'] = df_t.skewness_oxygen.quantile(0.95)\n",
        "  \n",
        "  return df_t"
      ],
      "execution_count": null,
      "outputs": []
    },
    {
      "cell_type": "markdown",
      "metadata": {
        "id": "uYCLPdFp8Kd6"
      },
      "source": [
        "#### Power Transformer"
      ]
    },
    {
      "cell_type": "code",
      "metadata": {
        "id": "y8t-BK_Y7slc"
      },
      "source": [
        "def power_t(df_t):\n",
        "  power_std_oxygen = PowerTransformer(method='yeo-johnson', standardize=True) \n",
        "  data_trans_std_oxygen = power_std_oxygen.fit_transform(df_t[[\"std_oxygen\", \"class\"]])\n",
        "\n",
        "  power_std_glucose = PowerTransformer(method='yeo-johnson', standardize=True) \n",
        "  data_trans_std_glucose = power_std_glucose.fit_transform(df_t[[\"std_glucose\", \"class\"]])\n",
        "\n",
        "  df_t[\"std_oxygen\"]=data_trans_std_oxygen[:,0]\n",
        "  df_t[\"std_glucose\"]=data_trans_std_glucose[:,0]\n",
        "  # df_t[\"class\"]=data_trans_std_glucose[:,1]\n",
        "  return df_t;"
      ],
      "execution_count": null,
      "outputs": []
    },
    {
      "cell_type": "markdown",
      "metadata": {
        "id": "funqFImAFn1S"
      },
      "source": [
        "#### Text data normalization"
      ]
    },
    {
      "cell_type": "code",
      "metadata": {
        "id": "8GPuMPgbFrfi"
      },
      "source": [
        "def text_normalize(df_t):\n",
        "  count_vect = CountVectorizer()\n",
        "\n",
        "  df_t.drop('race', axis='columns', inplace=True)\n",
        "\n",
        "  X_train_counts = count_vect.fit_transform(df_t.country)\n",
        "  df_t.country=X_train_counts.toarray().tolist()\n",
        "\n",
        "  X_train_counts = count_vect.fit_transform(df_t.workclass)\n",
        "  df_t.workclass=X_train_counts.toarray().tolist()\n",
        "\n",
        "  df_t.drop('family_state', axis='columns', inplace=True)\n",
        "  df_t.drop('marriage', axis='columns', inplace=True)\n",
        "\n",
        "  df_t.rename(columns = {'income': 'income>50K', 'sex': 'Male' }, inplace=True)\n",
        "  df_t[\"income>50K\"]=df_t[\"income>50K\"].replace(\" >50K\", 1).replace(\" <=50K\", 0)\n",
        "\n",
        "  df_t.drop('state', axis='columns', inplace=True)\n",
        "  df_t.drop('postcode', axis='columns', inplace=True)\n",
        "  df_t.drop('city', axis='columns', inplace=True)\n",
        "  df_t.drop('street_address', axis='columns', inplace=True)\n",
        "\n",
        "  X_train_counts = count_vect.fit_transform(df_t.occupation)\n",
        "  df_t.occupation=X_train_counts.toarray().tolist()\n",
        "\n",
        "  df_t.Male=df_t.Male.replace(\"Male\", 1).replace(\"Female\", 0)\n",
        "\n",
        "  df_t.drop('pregnant', axis='columns', inplace=True)\n",
        "  df_t.drop('name', axis='columns', inplace=True)\n",
        "  df_t.drop('date_of_birth', axis='columns', inplace=True)\n",
        "  return df_t\n"
      ],
      "execution_count": null,
      "outputs": []
    },
    {
      "cell_type": "markdown",
      "metadata": {
        "id": "IQlnft5m-afu"
      },
      "source": [
        "# Preprocessing validation datasets"
      ]
    },
    {
      "cell_type": "markdown",
      "metadata": {
        "id": "IoiKdp5_qcaK"
      },
      "source": [
        "### Let's load validation datasets first"
      ]
    },
    {
      "cell_type": "code",
      "metadata": {
        "id": "Tbgj8e-UAPRo"
      },
      "source": [
        "def load_data():\n",
        "  df_train_personal = pd.read_csv(\"personal_valid.csv\")\n",
        "  df_train_other = pd.read_csv(\"other_valid.csv\")\n",
        "  df_train_personal.drop(['Unnamed: 0'], axis='columns', inplace=True)\n",
        "  df_train_other.drop(['Unnamed: 0'], axis='columns', inplace=True)\n",
        "  df_train =pd.merge(df_train_personal, df_train_other, on=[\"name\", \"address\"])\n",
        "  return df_train"
      ],
      "execution_count": null,
      "outputs": []
    },
    {
      "cell_type": "code",
      "metadata": {
        "id": "GCnLwiMr3HHx",
        "colab": {
          "base_uri": "https://localhost:8080/",
          "height": 1000
        },
        "outputId": "243b3370-f3d4-497e-a723-1e2c8707327d"
      },
      "source": [
        "trans_duplicates = FunctionTransformer(remove_duplicates)\n",
        "trans_date = FunctionTransformer(dateformat_consistent)\n",
        "trans_age = FunctionTransformer(age_to_normal)\n",
        "trans_gender = FunctionTransformer(gender_to_normal)\n",
        "trans_pregnant = FunctionTransformer(pregnant_to_normal)\n",
        "trans_metrics = FunctionTransformer(metrics)\n",
        "trans_occupation = FunctionTransformer(occupation_to_normal)\n",
        "trans_personal_info = FunctionTransformer(personal_info_to_normal)\n",
        "trans_address = FunctionTransformer(address_to_normal)\n",
        "trans_others = FunctionTransformer(others_to_normal)\n",
        "trans_outliers = FunctionTransformer(change_outliers)\n",
        "trans_power = FunctionTransformer(power_t)\n",
        "trans_text = FunctionTransformer(text_normalize)\n",
        "\n",
        "sk_pipe = Pipeline([(\"duplicates\", trans_duplicates), \n",
        "                    (\"date\", trans_date),\n",
        "                    (\"age\", trans_age),\n",
        "                    (\"gender\", trans_gender),\n",
        "                    (\"pregnancy\", trans_pregnant),\n",
        "                    (\"metrics\", trans_metrics),\n",
        "                    (\"occupation\", trans_occupation),\n",
        "                    (\"personal_info\", trans_personal_info),\n",
        "                    (\"address\", trans_address),\n",
        "                    (\"others\", trans_others),\n",
        "                    (\"outliers\", trans_outliers),\n",
        "                    (\"power\", trans_power),\n",
        "                    (\"text\", trans_text)])\n",
        "df_train = load_data()\n",
        "df_train_normilize = sk_pipe.transform(df_train)\n",
        "df_train_normilize"
      ],
      "execution_count": null,
      "outputs": [
        {
          "output_type": "execute_result",
          "data": {
            "text/html": [
              "<div>\n",
              "<style scoped>\n",
              "    .dataframe tbody tr th:only-of-type {\n",
              "        vertical-align: middle;\n",
              "    }\n",
              "\n",
              "    .dataframe tbody tr th {\n",
              "        vertical-align: top;\n",
              "    }\n",
              "\n",
              "    .dataframe thead th {\n",
              "        text-align: right;\n",
              "    }\n",
              "</style>\n",
              "<table border=\"1\" class=\"dataframe\">\n",
              "  <thead>\n",
              "    <tr style=\"text-align: right;\">\n",
              "      <th></th>\n",
              "      <th>age</th>\n",
              "      <th>Male</th>\n",
              "      <th>kurtosis_oxygen</th>\n",
              "      <th>occupation</th>\n",
              "      <th>education-num</th>\n",
              "      <th>skewness_glucose</th>\n",
              "      <th>mean_glucose</th>\n",
              "      <th>std_oxygen</th>\n",
              "      <th>capital-gain</th>\n",
              "      <th>skewness_oxygen</th>\n",
              "      <th>kurtosis_glucose</th>\n",
              "      <th>fnlwgt</th>\n",
              "      <th>class</th>\n",
              "      <th>std_glucose</th>\n",
              "      <th>income&gt;50K</th>\n",
              "      <th>mean_oxygen</th>\n",
              "      <th>hours-per-week</th>\n",
              "      <th>capital-loss</th>\n",
              "      <th>workclass</th>\n",
              "      <th>country</th>\n",
              "    </tr>\n",
              "  </thead>\n",
              "  <tbody>\n",
              "    <tr>\n",
              "      <th>0</th>\n",
              "      <td>35</td>\n",
              "      <td>0</td>\n",
              "      <td>11.901183</td>\n",
              "      <td>[1, 0, 0, 0, 1, 0, 0, 0, 0, 0, 0, 0, 0, 0, 0, ...</td>\n",
              "      <td>10.0</td>\n",
              "      <td>1.100895</td>\n",
              "      <td>100.952226</td>\n",
              "      <td>-1.709603</td>\n",
              "      <td>0.0</td>\n",
              "      <td>209.956860</td>\n",
              "      <td>0.538392</td>\n",
              "      <td>145656.0</td>\n",
              "      <td>0.0</td>\n",
              "      <td>-1.245527</td>\n",
              "      <td>0</td>\n",
              "      <td>1.657191</td>\n",
              "      <td>24.0</td>\n",
              "      <td>0.0</td>\n",
              "      <td>[0, 0, 0, 0, 0, 0, 1, 0, 0]</td>\n",
              "      <td>[0, 0, 0, 0, 0, 0, 0, 0, 0, 0, 0, 0, 0, 0, 0, ...</td>\n",
              "    </tr>\n",
              "    <tr>\n",
              "      <th>1</th>\n",
              "      <td>53</td>\n",
              "      <td>0</td>\n",
              "      <td>7.293155</td>\n",
              "      <td>[0, 0, 0, 0, 0, 0, 0, 0, 0, 0, 0, 0, 0, 0, 0, ...</td>\n",
              "      <td>9.0</td>\n",
              "      <td>0.627064</td>\n",
              "      <td>93.109375</td>\n",
              "      <td>0.670061</td>\n",
              "      <td>0.0</td>\n",
              "      <td>209.956860</td>\n",
              "      <td>0.445701</td>\n",
              "      <td>131068.0</td>\n",
              "      <td>0.0</td>\n",
              "      <td>-0.335976</td>\n",
              "      <td>0</td>\n",
              "      <td>3.896321</td>\n",
              "      <td>40.0</td>\n",
              "      <td>0.0</td>\n",
              "      <td>[0, 0, 0, 0, 0, 0, 1, 0, 0]</td>\n",
              "      <td>[0, 0, 0, 0, 0, 0, 0, 0, 0, 0, 0, 0, 0, 0, 0, ...</td>\n",
              "    </tr>\n",
              "    <tr>\n",
              "      <th>2</th>\n",
              "      <td>43</td>\n",
              "      <td>1</td>\n",
              "      <td>6.849557</td>\n",
              "      <td>[0, 0, 0, 0, 0, 1, 0, 0, 0, 0, 0, 0, 0, 0, 0, ...</td>\n",
              "      <td>13.0</td>\n",
              "      <td>0.132196</td>\n",
              "      <td>107.054688</td>\n",
              "      <td>0.071887</td>\n",
              "      <td>0.0</td>\n",
              "      <td>55.304186</td>\n",
              "      <td>0.244217</td>\n",
              "      <td>156800.0</td>\n",
              "      <td>0.0</td>\n",
              "      <td>-0.475976</td>\n",
              "      <td>0</td>\n",
              "      <td>3.598662</td>\n",
              "      <td>50.0</td>\n",
              "      <td>0.0</td>\n",
              "      <td>[1, 0, 0, 1, 0, 1, 0, 1, 0]</td>\n",
              "      <td>[0, 0, 0, 0, 0, 0, 0, 0, 0, 0, 0, 0, 0, 0, 0, ...</td>\n",
              "    </tr>\n",
              "    <tr>\n",
              "      <th>3</th>\n",
              "      <td>46</td>\n",
              "      <td>1</td>\n",
              "      <td>10.839312</td>\n",
              "      <td>[0, 0, 0, 0, 0, 0, 0, 0, 0, 0, 0, 0, 0, 0, 0, ...</td>\n",
              "      <td>11.0</td>\n",
              "      <td>-0.146138</td>\n",
              "      <td>109.328125</td>\n",
              "      <td>-0.757267</td>\n",
              "      <td>0.0</td>\n",
              "      <td>209.956860</td>\n",
              "      <td>0.380494</td>\n",
              "      <td>306352.0</td>\n",
              "      <td>0.0</td>\n",
              "      <td>0.884352</td>\n",
              "      <td>0</td>\n",
              "      <td>2.132107</td>\n",
              "      <td>40.0</td>\n",
              "      <td>0.0</td>\n",
              "      <td>[0, 0, 0, 0, 0, 0, 1, 0, 0]</td>\n",
              "      <td>[0, 0, 0, 0, 0, 0, 0, 0, 0, 0, 1, 0, 0, 0, 0, ...</td>\n",
              "    </tr>\n",
              "    <tr>\n",
              "      <th>4</th>\n",
              "      <td>52</td>\n",
              "      <td>1</td>\n",
              "      <td>7.153364</td>\n",
              "      <td>[0, 0, 0, 0, 0, 0, 0, 0, 0, 0, 0, 0, 0, 0, 0, ...</td>\n",
              "      <td>10.0</td>\n",
              "      <td>0.891195</td>\n",
              "      <td>100.952226</td>\n",
              "      <td>0.554452</td>\n",
              "      <td>0.0</td>\n",
              "      <td>55.738168</td>\n",
              "      <td>0.320338</td>\n",
              "      <td>311177.0</td>\n",
              "      <td>0.0</td>\n",
              "      <td>-1.118334</td>\n",
              "      <td>0</td>\n",
              "      <td>3.721572</td>\n",
              "      <td>30.0</td>\n",
              "      <td>0.0</td>\n",
              "      <td>[1, 0, 0, 1, 0, 1, 0, 1, 0]</td>\n",
              "      <td>[0, 0, 0, 0, 0, 0, 0, 0, 0, 0, 0, 0, 0, 0, 0, ...</td>\n",
              "    </tr>\n",
              "    <tr>\n",
              "      <th>...</th>\n",
              "      <td>...</td>\n",
              "      <td>...</td>\n",
              "      <td>...</td>\n",
              "      <td>...</td>\n",
              "      <td>...</td>\n",
              "      <td>...</td>\n",
              "      <td>...</td>\n",
              "      <td>...</td>\n",
              "      <td>...</td>\n",
              "      <td>...</td>\n",
              "      <td>...</td>\n",
              "      <td>...</td>\n",
              "      <td>...</td>\n",
              "      <td>...</td>\n",
              "      <td>...</td>\n",
              "      <td>...</td>\n",
              "      <td>...</td>\n",
              "      <td>...</td>\n",
              "      <td>...</td>\n",
              "      <td>...</td>\n",
              "    </tr>\n",
              "    <tr>\n",
              "      <th>736</th>\n",
              "      <td>43</td>\n",
              "      <td>1</td>\n",
              "      <td>8.480384</td>\n",
              "      <td>[1, 0, 0, 0, 1, 0, 0, 0, 0, 0, 0, 0, 0, 0, 0, ...</td>\n",
              "      <td>10.0</td>\n",
              "      <td>0.074881</td>\n",
              "      <td>118.789062</td>\n",
              "      <td>-0.930520</td>\n",
              "      <td>0.0</td>\n",
              "      <td>209.956860</td>\n",
              "      <td>0.160317</td>\n",
              "      <td>107190.0</td>\n",
              "      <td>0.0</td>\n",
              "      <td>-0.226072</td>\n",
              "      <td>0</td>\n",
              "      <td>2.751672</td>\n",
              "      <td>20.0</td>\n",
              "      <td>0.0</td>\n",
              "      <td>[0, 0, 0, 0, 0, 0, 1, 0, 0]</td>\n",
              "      <td>[0, 0, 0, 0, 0, 0, 0, 0, 0, 0, 0, 0, 0, 0, 0, ...</td>\n",
              "    </tr>\n",
              "    <tr>\n",
              "      <th>737</th>\n",
              "      <td>43</td>\n",
              "      <td>1</td>\n",
              "      <td>10.590977</td>\n",
              "      <td>[0, 0, 0, 0, 0, 0, 0, 0, 0, 0, 0, 0, 0, 0, 0, ...</td>\n",
              "      <td>14.0</td>\n",
              "      <td>0.698647</td>\n",
              "      <td>121.859375</td>\n",
              "      <td>-1.553557</td>\n",
              "      <td>0.0</td>\n",
              "      <td>209.956860</td>\n",
              "      <td>0.247989</td>\n",
              "      <td>107302.0</td>\n",
              "      <td>0.0</td>\n",
              "      <td>-0.821247</td>\n",
              "      <td>0</td>\n",
              "      <td>2.071906</td>\n",
              "      <td>40.0</td>\n",
              "      <td>0.0</td>\n",
              "      <td>[0, 0, 0, 0, 0, 0, 1, 0, 0]</td>\n",
              "      <td>[0, 0, 0, 0, 0, 0, 0, 0, 1, 0, 0, 0, 0, 0, 0, ...</td>\n",
              "    </tr>\n",
              "    <tr>\n",
              "      <th>738</th>\n",
              "      <td>59</td>\n",
              "      <td>1</td>\n",
              "      <td>8.721704</td>\n",
              "      <td>[0, 0, 0, 0, 0, 0, 0, 0, 0, 0, 0, 0, 0, 0, 0, ...</td>\n",
              "      <td>10.0</td>\n",
              "      <td>-0.035706</td>\n",
              "      <td>121.101562</td>\n",
              "      <td>-0.699732</td>\n",
              "      <td>0.0</td>\n",
              "      <td>209.956860</td>\n",
              "      <td>0.236479</td>\n",
              "      <td>189530.0</td>\n",
              "      <td>0.0</td>\n",
              "      <td>-0.762749</td>\n",
              "      <td>0</td>\n",
              "      <td>2.572742</td>\n",
              "      <td>35.0</td>\n",
              "      <td>0.0</td>\n",
              "      <td>[0, 0, 0, 0, 0, 0, 1, 0, 0]</td>\n",
              "      <td>[0, 0, 0, 0, 0, 0, 0, 0, 0, 0, 0, 0, 0, 0, 0, ...</td>\n",
              "    </tr>\n",
              "    <tr>\n",
              "      <th>739</th>\n",
              "      <td>45</td>\n",
              "      <td>0</td>\n",
              "      <td>5.193876</td>\n",
              "      <td>[0, 0, 0, 0, 0, 0, 0, 0, 0, 0, 0, 0, 0, 0, 0, ...</td>\n",
              "      <td>9.0</td>\n",
              "      <td>0.177381</td>\n",
              "      <td>100.952226</td>\n",
              "      <td>0.453913</td>\n",
              "      <td>0.0</td>\n",
              "      <td>33.179282</td>\n",
              "      <td>0.075181</td>\n",
              "      <td>105281.0</td>\n",
              "      <td>0.0</td>\n",
              "      <td>0.143274</td>\n",
              "      <td>0</td>\n",
              "      <td>5.558528</td>\n",
              "      <td>40.0</td>\n",
              "      <td>1974.0</td>\n",
              "      <td>[0, 0, 0, 0, 0, 0, 1, 0, 0]</td>\n",
              "      <td>[0, 0, 0, 0, 0, 0, 0, 0, 0, 0, 0, 0, 0, 0, 0, ...</td>\n",
              "    </tr>\n",
              "    <tr>\n",
              "      <th>740</th>\n",
              "      <td>43</td>\n",
              "      <td>1</td>\n",
              "      <td>10.915093</td>\n",
              "      <td>[0, 0, 0, 0, 0, 1, 0, 0, 0, 0, 0, 0, 0, 0, 0, ...</td>\n",
              "      <td>4.0</td>\n",
              "      <td>-0.070660</td>\n",
              "      <td>124.015625</td>\n",
              "      <td>-1.271462</td>\n",
              "      <td>0.0</td>\n",
              "      <td>209.956860</td>\n",
              "      <td>-0.059286</td>\n",
              "      <td>33186.0</td>\n",
              "      <td>0.0</td>\n",
              "      <td>0.485480</td>\n",
              "      <td>0</td>\n",
              "      <td>1.689799</td>\n",
              "      <td>60.0</td>\n",
              "      <td>0.0</td>\n",
              "      <td>[0, 0, 0, 0, 0, 0, 1, 0, 0]</td>\n",
              "      <td>[0, 0, 0, 0, 0, 0, 0, 0, 0, 0, 0, 0, 0, 0, 0, ...</td>\n",
              "    </tr>\n",
              "  </tbody>\n",
              "</table>\n",
              "<p>741 rows × 20 columns</p>\n",
              "</div>"
            ],
            "text/plain": [
              "     age  ...                                            country\n",
              "0     35  ...  [0, 0, 0, 0, 0, 0, 0, 0, 0, 0, 0, 0, 0, 0, 0, ...\n",
              "1     53  ...  [0, 0, 0, 0, 0, 0, 0, 0, 0, 0, 0, 0, 0, 0, 0, ...\n",
              "2     43  ...  [0, 0, 0, 0, 0, 0, 0, 0, 0, 0, 0, 0, 0, 0, 0, ...\n",
              "3     46  ...  [0, 0, 0, 0, 0, 0, 0, 0, 0, 0, 1, 0, 0, 0, 0, ...\n",
              "4     52  ...  [0, 0, 0, 0, 0, 0, 0, 0, 0, 0, 0, 0, 0, 0, 0, ...\n",
              "..   ...  ...                                                ...\n",
              "736   43  ...  [0, 0, 0, 0, 0, 0, 0, 0, 0, 0, 0, 0, 0, 0, 0, ...\n",
              "737   43  ...  [0, 0, 0, 0, 0, 0, 0, 0, 1, 0, 0, 0, 0, 0, 0, ...\n",
              "738   59  ...  [0, 0, 0, 0, 0, 0, 0, 0, 0, 0, 0, 0, 0, 0, 0, ...\n",
              "739   45  ...  [0, 0, 0, 0, 0, 0, 0, 0, 0, 0, 0, 0, 0, 0, 0, ...\n",
              "740   43  ...  [0, 0, 0, 0, 0, 0, 0, 0, 0, 0, 0, 0, 0, 0, 0, ...\n",
              "\n",
              "[741 rows x 20 columns]"
            ]
          },
          "metadata": {
            "tags": []
          },
          "execution_count": 16
        }
      ]
    },
    {
      "cell_type": "markdown",
      "metadata": {
        "id": "fCoxHHIrjH4m"
      },
      "source": [
        "### As we can see no Nan or other inappropriate value accures. So our pipeline doesn't need any changes.\n",
        "\n"
      ]
    },
    {
      "cell_type": "markdown",
      "metadata": {
        "id": "edDDN00GjXR5"
      },
      "source": [
        "# Manual creating and evaluating decision rules for classification "
      ]
    },
    {
      "cell_type": "markdown",
      "metadata": {
        "id": "Vgl76fmoU9Gs"
      },
      "source": [
        "### Defining rules:\n",
        "\n",
        "1.  metr_o:\n",
        "        1.1 if 0<=std_oxygen<=2 then class=1 (presence of the disease)\n",
        "        1.2 else class=0 (no disease)\n",
        "\n",
        "2.  metr_g:\n",
        "        2.1 if -2<=std_oxygen<=0 then class=1 (presence of the disease)\n",
        "        2.2 else class=0 (no disease)\n",
        "\n",
        "3. metr - combine above rules.\n",
        "\n"
      ]
    },
    {
      "cell_type": "code",
      "metadata": {
        "id": "Ee7hyIV5uDHB"
      },
      "source": [
        "def metr_o(X):\n",
        "  y=pd.DataFrame()\n",
        "  for idx, row in X.iterrows():\n",
        "    if (row['std_oxygen']>=0 and row['std_oxygen']<=2):\n",
        "      y = pd.concat([y, pd.DataFrame([[1]], columns=['class'])])\n",
        "    else:\n",
        "      y = pd.concat([y, pd.DataFrame([[0]], columns=['class'])])\n",
        "  return y\n",
        "\n",
        "def metr_g(X):\n",
        "  y=pd.DataFrame()\n",
        "  for idx, row in X.iterrows():\n",
        "    if (row['std_glucose']>=-2 and row['std_glucose']<=0):\n",
        "      y = pd.concat([y, pd.DataFrame([[1]], columns=['class'])])\n",
        "    else:\n",
        "      y = pd.concat([y, pd.DataFrame([[0]], columns=['class'])])\n",
        "  return y\n",
        "\n",
        "def metr(X):\n",
        "  y=pd.DataFrame()\n",
        "  for idx, row in X.iterrows():\n",
        "    if (row['std_oxygen']>=0 and row['std_oxygen']<=2):\n",
        "      if (row['std_glucose']>=-2 and row['std_glucose']<=0):\n",
        "        y = pd.concat([y, pd.DataFrame([[1]], columns=['class'])])\n",
        "      else:\n",
        "        y = pd.concat([y, pd.DataFrame([[0]], columns=['class'])])\n",
        "    else:\n",
        "      y = pd.concat([y, pd.DataFrame([[0]], columns=['class'])])\n",
        "  return y"
      ],
      "execution_count": null,
      "outputs": []
    },
    {
      "cell_type": "markdown",
      "metadata": {
        "id": "FBqYLXEZWLf_"
      },
      "source": [
        "#### Decision based only on the first rule (metr_o)"
      ]
    },
    {
      "cell_type": "code",
      "metadata": {
        "colab": {
          "base_uri": "https://localhost:8080/"
        },
        "id": "hdF7-pJmvkv4",
        "outputId": "6c46fb83-90b1-4778-b291-6cba345792c6"
      },
      "source": [
        "X = df_train_normilize.loc[df_train_normilize.index >= 10, ['std_oxygen']]\n",
        "y = df_train_normilize.loc[df_train_normilize.index >= 10, 'class']\n",
        "y1 = metr_o(X)\n",
        "print(\"Accuracy: \",accuracy_score(y, y1))\n",
        "print(\"Precision: \",precision_score(y, y1))\n",
        "print(\"Recall: \",recall_score(y, y1))"
      ],
      "execution_count": null,
      "outputs": [
        {
          "output_type": "stream",
          "text": [
            "Accuracy:  0.5786593707250342\n",
            "Precision:  0.175\n",
            "Recall:  0.8513513513513513\n"
          ],
          "name": "stdout"
        }
      ]
    },
    {
      "cell_type": "markdown",
      "metadata": {
        "id": "T_L1hepDWi6T"
      },
      "source": [
        "#### Decision based only on the second rule (metr_g)"
      ]
    },
    {
      "cell_type": "code",
      "metadata": {
        "colab": {
          "base_uri": "https://localhost:8080/"
        },
        "id": "vYZp276TwjOV",
        "outputId": "c473d22d-ee64-4d82-ce33-c021b9fd3123"
      },
      "source": [
        "X = df_train_normilize.loc[df_train_normilize.index >= 10, ['std_glucose']]\n",
        "y = df_train_normilize.loc[df_train_normilize.index >= 10, 'class']\n",
        "y1 = metr_g(X)\n",
        "print(\"Accuracy: \",accuracy_score(y, y1))\n",
        "print(\"Precision: \",precision_score(y, y1))\n",
        "print(\"Recall: \",recall_score(y, y1))"
      ],
      "execution_count": null,
      "outputs": [
        {
          "output_type": "stream",
          "text": [
            "Accuracy:  0.5841313269493844\n",
            "Precision:  0.16569767441860464\n",
            "Recall:  0.7702702702702703\n"
          ],
          "name": "stdout"
        }
      ]
    },
    {
      "cell_type": "markdown",
      "metadata": {
        "id": "gAW8b0DLWlZY"
      },
      "source": [
        "#### Decision based only on the third rule (metr)"
      ]
    },
    {
      "cell_type": "code",
      "metadata": {
        "colab": {
          "base_uri": "https://localhost:8080/"
        },
        "id": "GZw2vzvTxx6u",
        "outputId": "0e670eae-9fb9-45c4-cdbf-fe6af778404b"
      },
      "source": [
        "X = df_train_normilize.loc[df_train_normilize.index >= 10, ['std_oxygen', 'std_glucose']]\n",
        "y = df_train_normilize.loc[df_train_normilize.index >= 10, 'class']\n",
        "y1 = metr(X)\n",
        "print(\"Accuracy: \",accuracy_score(y, y1))\n",
        "print(\"Precision: \",precision_score(y, y1))\n",
        "print(\"Recall: \",recall_score(y, y1))"
      ],
      "execution_count": null,
      "outputs": [
        {
          "output_type": "stream",
          "text": [
            "Accuracy:  0.8153214774281806\n",
            "Precision:  0.3081761006289308\n",
            "Recall:  0.6621621621621622\n"
          ],
          "name": "stdout"
        }
      ]
    },
    {
      "cell_type": "markdown",
      "metadata": {
        "id": "F4--jWP0WtgJ"
      },
      "source": [
        "#### To sum up, taking two values (std_oxygen and std_glucose) into consideration has better results than taking only one of the values."
      ]
    },
    {
      "cell_type": "markdown",
      "metadata": {
        "id": "95LSsJw1wj5U"
      },
      "source": [
        "# Training and evaluating of classificator using decision trees"
      ]
    },
    {
      "cell_type": "markdown",
      "metadata": {
        "id": "CeSSMa4htCFa"
      },
      "source": [
        "### First training is based only on 'std_oxygen' parameter"
      ]
    },
    {
      "cell_type": "code",
      "metadata": {
        "colab": {
          "base_uri": "https://localhost:8080/"
        },
        "id": "94-h0FCljbr9",
        "outputId": "2b060c6d-1f07-45f8-e5c9-9d2f599b42df"
      },
      "source": [
        "cls = DecisionTreeClassifier(criterion='entropy')\n",
        "X = df_train_normilize.loc[df_train_normilize.index < 20, ['std_oxygen']]\n",
        "y = df_train_normilize.loc[df_train_normilize.index < 20, 'class']\n",
        "cls.fit(X, y)"
      ],
      "execution_count": null,
      "outputs": [
        {
          "output_type": "execute_result",
          "data": {
            "text/plain": [
              "DecisionTreeClassifier(ccp_alpha=0.0, class_weight=None, criterion='entropy',\n",
              "                       max_depth=None, max_features=None, max_leaf_nodes=None,\n",
              "                       min_impurity_decrease=0.0, min_impurity_split=None,\n",
              "                       min_samples_leaf=1, min_samples_split=2,\n",
              "                       min_weight_fraction_leaf=0.0, presort='deprecated',\n",
              "                       random_state=None, splitter='best')"
            ]
          },
          "metadata": {
            "tags": []
          },
          "execution_count": 21
        }
      ]
    },
    {
      "cell_type": "code",
      "metadata": {
        "colab": {
          "base_uri": "https://localhost:8080/",
          "height": 289
        },
        "id": "T0R19TUGkKRT",
        "outputId": "269bc9c4-8818-4abd-b234-0839593927b4"
      },
      "source": [
        "graph = Source(export_graphviz(cls, \n",
        "                               out_file=None,\n",
        "                               feature_names=['std_oxygen'],\n",
        "                               class_names=['no', 'yes'],\n",
        "                               filled = True))\n",
        "display(SVG(graph.pipe(format='svg')))\n",
        "\n",
        "style = \"<style>svg{width:30% !important;height:30% !important;}</style>\"\n",
        "HTML(style)"
      ],
      "execution_count": null,
      "outputs": [
        {
          "output_type": "display_data",
          "data": {
            "text/plain": [
              "<IPython.core.display.SVG object>"
            ],
            "image/svg+xml": "<svg height=\"195pt\" viewBox=\"0.00 0.00 223.50 195.00\" width=\"224pt\" xmlns=\"http://www.w3.org/2000/svg\" xmlns:xlink=\"http://www.w3.org/1999/xlink\">\n<g class=\"graph\" id=\"graph0\" transform=\"scale(1 1) rotate(0) translate(4 191)\">\n<title>Tree</title>\n<polygon fill=\"#ffffff\" points=\"-4,4 -4,-191 219.5,-191 219.5,4 -4,4\" stroke=\"transparent\"/>\n<!-- 0 -->\n<g class=\"node\" id=\"node1\">\n<title>0</title>\n<polygon fill=\"#e68843\" points=\"180,-187 38,-187 38,-104 180,-104 180,-187\" stroke=\"#000000\"/>\n<text fill=\"#000000\" font-family=\"Times,serif\" font-size=\"14.00\" text-anchor=\"middle\" x=\"109\" y=\"-171.8\">std_oxygen &lt;= 1.693</text>\n<text fill=\"#000000\" font-family=\"Times,serif\" font-size=\"14.00\" text-anchor=\"middle\" x=\"109\" y=\"-156.8\">entropy = 0.286</text>\n<text fill=\"#000000\" font-family=\"Times,serif\" font-size=\"14.00\" text-anchor=\"middle\" x=\"109\" y=\"-141.8\">samples = 20</text>\n<text fill=\"#000000\" font-family=\"Times,serif\" font-size=\"14.00\" text-anchor=\"middle\" x=\"109\" y=\"-126.8\">value = [19, 1]</text>\n<text fill=\"#000000\" font-family=\"Times,serif\" font-size=\"14.00\" text-anchor=\"middle\" x=\"109\" y=\"-111.8\">class = no</text>\n</g>\n<!-- 1 -->\n<g class=\"node\" id=\"node2\">\n<title>1</title>\n<polygon fill=\"#e58139\" points=\"102,-68 0,-68 0,0 102,0 102,-68\" stroke=\"#000000\"/>\n<text fill=\"#000000\" font-family=\"Times,serif\" font-size=\"14.00\" text-anchor=\"middle\" x=\"51\" y=\"-52.8\">entropy = 0.0</text>\n<text fill=\"#000000\" font-family=\"Times,serif\" font-size=\"14.00\" text-anchor=\"middle\" x=\"51\" y=\"-37.8\">samples = 19</text>\n<text fill=\"#000000\" font-family=\"Times,serif\" font-size=\"14.00\" text-anchor=\"middle\" x=\"51\" y=\"-22.8\">value = [19, 0]</text>\n<text fill=\"#000000\" font-family=\"Times,serif\" font-size=\"14.00\" text-anchor=\"middle\" x=\"51\" y=\"-7.8\">class = no</text>\n</g>\n<!-- 0&#45;&gt;1 -->\n<g class=\"edge\" id=\"edge1\">\n<title>0-&gt;1</title>\n<path d=\"M87.4029,-103.9815C82.8612,-95.2504 78.0598,-86.0202 73.4863,-77.2281\" fill=\"none\" stroke=\"#000000\"/>\n<polygon fill=\"#000000\" points=\"76.5431,-75.52 68.8233,-68.2637 70.3331,-78.7504 76.5431,-75.52\" stroke=\"#000000\"/>\n<text fill=\"#000000\" font-family=\"Times,serif\" font-size=\"14.00\" text-anchor=\"middle\" x=\"61.2983\" y=\"-88.4043\">True</text>\n</g>\n<!-- 2 -->\n<g class=\"node\" id=\"node3\">\n<title>2</title>\n<polygon fill=\"#399de5\" points=\"215.5,-68 120.5,-68 120.5,0 215.5,0 215.5,-68\" stroke=\"#000000\"/>\n<text fill=\"#000000\" font-family=\"Times,serif\" font-size=\"14.00\" text-anchor=\"middle\" x=\"168\" y=\"-52.8\">entropy = 0.0</text>\n<text fill=\"#000000\" font-family=\"Times,serif\" font-size=\"14.00\" text-anchor=\"middle\" x=\"168\" y=\"-37.8\">samples = 1</text>\n<text fill=\"#000000\" font-family=\"Times,serif\" font-size=\"14.00\" text-anchor=\"middle\" x=\"168\" y=\"-22.8\">value = [0, 1]</text>\n<text fill=\"#000000\" font-family=\"Times,serif\" font-size=\"14.00\" text-anchor=\"middle\" x=\"168\" y=\"-7.8\">class = yes</text>\n</g>\n<!-- 0&#45;&gt;2 -->\n<g class=\"edge\" id=\"edge2\">\n<title>0-&gt;2</title>\n<path d=\"M130.9694,-103.9815C135.5895,-95.2504 140.4736,-86.0202 145.126,-77.2281\" fill=\"none\" stroke=\"#000000\"/>\n<polygon fill=\"#000000\" points=\"148.2859,-78.7395 149.8694,-68.2637 142.0987,-75.4655 148.2859,-78.7395\" stroke=\"#000000\"/>\n<text fill=\"#000000\" font-family=\"Times,serif\" font-size=\"14.00\" text-anchor=\"middle\" x=\"157.2265\" y=\"-88.4566\">False</text>\n</g>\n</g>\n</svg>"
          },
          "metadata": {
            "tags": []
          }
        },
        {
          "output_type": "execute_result",
          "data": {
            "text/html": [
              "<style>svg{width:30% !important;height:30% !important;}</style>"
            ],
            "text/plain": [
              "<IPython.core.display.HTML object>"
            ]
          },
          "metadata": {
            "tags": []
          },
          "execution_count": 22
        }
      ]
    },
    {
      "cell_type": "markdown",
      "metadata": {
        "id": "fYgP7_5jtV59"
      },
      "source": [
        "### Here are results of first training"
      ]
    },
    {
      "cell_type": "code",
      "metadata": {
        "colab": {
          "base_uri": "https://localhost:8080/"
        },
        "id": "GH2jzKCEpMco",
        "outputId": "2878a18d-8f05-402c-e395-9320a999a55b"
      },
      "source": [
        "X = df_train_normilize.loc[df_train_normilize.index >= 20, ['std_oxygen']]\n",
        "y = df_train_normilize.loc[df_train_normilize.index >= 20, 'class']\n",
        "y1 = cls.predict(X)\n",
        "\n",
        "print(\"Accuracy: \",accuracy_score(y, y1))\n",
        "print(\"Precision: \",precision_score(y, y1))\n",
        "print(\"Recall: \",recall_score(y, y1))"
      ],
      "execution_count": null,
      "outputs": [
        {
          "output_type": "stream",
          "text": [
            "Accuracy:  0.9042995839112344\n",
            "Precision:  0.5675675675675675\n",
            "Recall:  0.28378378378378377\n"
          ],
          "name": "stdout"
        }
      ]
    },
    {
      "cell_type": "markdown",
      "metadata": {
        "id": "E3rFS4G6tun3"
      },
      "source": [
        "### We will use 'std_oxygen' in the second training"
      ]
    },
    {
      "cell_type": "code",
      "metadata": {
        "colab": {
          "base_uri": "https://localhost:8080/"
        },
        "id": "zIw3hDDctlKn",
        "outputId": "24d67667-e471-46bd-aa85-4ccea031927c"
      },
      "source": [
        "cls = DecisionTreeClassifier(criterion='entropy')\n",
        "X = df_train_normilize.loc[df_train_normilize.index < 20, ['std_glucose']]\n",
        "y = df_train_normilize.loc[df_train_normilize.index < 20, 'class']\n",
        "cls.fit(X, y)"
      ],
      "execution_count": null,
      "outputs": [
        {
          "output_type": "execute_result",
          "data": {
            "text/plain": [
              "DecisionTreeClassifier(ccp_alpha=0.0, class_weight=None, criterion='entropy',\n",
              "                       max_depth=None, max_features=None, max_leaf_nodes=None,\n",
              "                       min_impurity_decrease=0.0, min_impurity_split=None,\n",
              "                       min_samples_leaf=1, min_samples_split=2,\n",
              "                       min_weight_fraction_leaf=0.0, presort='deprecated',\n",
              "                       random_state=None, splitter='best')"
            ]
          },
          "metadata": {
            "tags": []
          },
          "execution_count": 24
        }
      ]
    },
    {
      "cell_type": "code",
      "metadata": {
        "colab": {
          "base_uri": "https://localhost:8080/",
          "height": 338
        },
        "id": "GmzPFYcxto4w",
        "outputId": "b6414cc4-7464-4659-dbf7-0bae99271c8e"
      },
      "source": [
        "graph = Source(export_graphviz(cls, \n",
        "                               out_file=None,\n",
        "                               feature_names=['std_glucose'],\n",
        "                               class_names=['no', 'yes'],\n",
        "                               filled = True))\n",
        "display(SVG(graph.pipe(format='svg')))\n",
        "\n",
        "style = \"<style>svg{width:30% !important;height:30% !important;}</style>\"\n",
        "HTML(style)"
      ],
      "execution_count": null,
      "outputs": [
        {
          "output_type": "display_data",
          "data": {
            "text/plain": [
              "<IPython.core.display.SVG object>"
            ],
            "image/svg+xml": "<svg height=\"314pt\" viewBox=\"0.00 0.00 304.50 314.00\" width=\"305pt\" xmlns=\"http://www.w3.org/2000/svg\" xmlns:xlink=\"http://www.w3.org/1999/xlink\">\n<g class=\"graph\" id=\"graph0\" transform=\"scale(1 1) rotate(0) translate(4 310)\">\n<title>Tree</title>\n<polygon fill=\"#ffffff\" points=\"-4,4 -4,-310 300.5,-310 300.5,4 -4,4\" stroke=\"transparent\"/>\n<!-- 0 -->\n<g class=\"node\" id=\"node1\">\n<title>0</title>\n<polygon fill=\"#e68843\" points=\"247.5,-306 101.5,-306 101.5,-223 247.5,-223 247.5,-306\" stroke=\"#000000\"/>\n<text fill=\"#000000\" font-family=\"Times,serif\" font-size=\"14.00\" text-anchor=\"middle\" x=\"174.5\" y=\"-290.8\">std_glucose &lt;= -1.354</text>\n<text fill=\"#000000\" font-family=\"Times,serif\" font-size=\"14.00\" text-anchor=\"middle\" x=\"174.5\" y=\"-275.8\">entropy = 0.286</text>\n<text fill=\"#000000\" font-family=\"Times,serif\" font-size=\"14.00\" text-anchor=\"middle\" x=\"174.5\" y=\"-260.8\">samples = 20</text>\n<text fill=\"#000000\" font-family=\"Times,serif\" font-size=\"14.00\" text-anchor=\"middle\" x=\"174.5\" y=\"-245.8\">value = [19, 1]</text>\n<text fill=\"#000000\" font-family=\"Times,serif\" font-size=\"14.00\" text-anchor=\"middle\" x=\"174.5\" y=\"-230.8\">class = no</text>\n</g>\n<!-- 1 -->\n<g class=\"node\" id=\"node2\">\n<title>1</title>\n<polygon fill=\"#eeab7b\" points=\"176.5,-187 30.5,-187 30.5,-104 176.5,-104 176.5,-187\" stroke=\"#000000\"/>\n<text fill=\"#000000\" font-family=\"Times,serif\" font-size=\"14.00\" text-anchor=\"middle\" x=\"103.5\" y=\"-171.8\">std_glucose &lt;= -1.526</text>\n<text fill=\"#000000\" font-family=\"Times,serif\" font-size=\"14.00\" text-anchor=\"middle\" x=\"103.5\" y=\"-156.8\">entropy = 0.811</text>\n<text fill=\"#000000\" font-family=\"Times,serif\" font-size=\"14.00\" text-anchor=\"middle\" x=\"103.5\" y=\"-141.8\">samples = 4</text>\n<text fill=\"#000000\" font-family=\"Times,serif\" font-size=\"14.00\" text-anchor=\"middle\" x=\"103.5\" y=\"-126.8\">value = [3, 1]</text>\n<text fill=\"#000000\" font-family=\"Times,serif\" font-size=\"14.00\" text-anchor=\"middle\" x=\"103.5\" y=\"-111.8\">class = no</text>\n</g>\n<!-- 0&#45;&gt;1 -->\n<g class=\"edge\" id=\"edge1\">\n<title>0-&gt;1</title>\n<path d=\"M149.6676,-222.8796C144.5091,-214.2335 139.0192,-205.0322 133.6924,-196.1042\" fill=\"none\" stroke=\"#000000\"/>\n<polygon fill=\"#000000\" points=\"136.5678,-194.0924 128.4383,-187.2981 130.5564,-197.679 136.5678,-194.0924\" stroke=\"#000000\"/>\n<text fill=\"#000000\" font-family=\"Times,serif\" font-size=\"14.00\" text-anchor=\"middle\" x=\"122.3149\" y=\"-207.8366\">True</text>\n</g>\n<!-- 4 -->\n<g class=\"node\" id=\"node5\">\n<title>4</title>\n<polygon fill=\"#e58139\" points=\"296.5,-179.5 194.5,-179.5 194.5,-111.5 296.5,-111.5 296.5,-179.5\" stroke=\"#000000\"/>\n<text fill=\"#000000\" font-family=\"Times,serif\" font-size=\"14.00\" text-anchor=\"middle\" x=\"245.5\" y=\"-164.3\">entropy = 0.0</text>\n<text fill=\"#000000\" font-family=\"Times,serif\" font-size=\"14.00\" text-anchor=\"middle\" x=\"245.5\" y=\"-149.3\">samples = 16</text>\n<text fill=\"#000000\" font-family=\"Times,serif\" font-size=\"14.00\" text-anchor=\"middle\" x=\"245.5\" y=\"-134.3\">value = [16, 0]</text>\n<text fill=\"#000000\" font-family=\"Times,serif\" font-size=\"14.00\" text-anchor=\"middle\" x=\"245.5\" y=\"-119.3\">class = no</text>\n</g>\n<!-- 0&#45;&gt;4 -->\n<g class=\"edge\" id=\"edge4\">\n<title>0-&gt;4</title>\n<path d=\"M199.3324,-222.8796C205.9587,-211.7735 213.1316,-199.7513 219.8033,-188.5691\" fill=\"none\" stroke=\"#000000\"/>\n<polygon fill=\"#000000\" points=\"222.9083,-190.1959 225.0264,-179.8149 216.8969,-186.6093 222.9083,-190.1959\" stroke=\"#000000\"/>\n<text fill=\"#000000\" font-family=\"Times,serif\" font-size=\"14.00\" text-anchor=\"middle\" x=\"231.1498\" y=\"-200.3534\">False</text>\n</g>\n<!-- 2 -->\n<g class=\"node\" id=\"node3\">\n<title>2</title>\n<polygon fill=\"#e58139\" points=\"95,-68 0,-68 0,0 95,0 95,-68\" stroke=\"#000000\"/>\n<text fill=\"#000000\" font-family=\"Times,serif\" font-size=\"14.00\" text-anchor=\"middle\" x=\"47.5\" y=\"-52.8\">entropy = 0.0</text>\n<text fill=\"#000000\" font-family=\"Times,serif\" font-size=\"14.00\" text-anchor=\"middle\" x=\"47.5\" y=\"-37.8\">samples = 3</text>\n<text fill=\"#000000\" font-family=\"Times,serif\" font-size=\"14.00\" text-anchor=\"middle\" x=\"47.5\" y=\"-22.8\">value = [3, 0]</text>\n<text fill=\"#000000\" font-family=\"Times,serif\" font-size=\"14.00\" text-anchor=\"middle\" x=\"47.5\" y=\"-7.8\">class = no</text>\n</g>\n<!-- 1&#45;&gt;2 -->\n<g class=\"edge\" id=\"edge2\">\n<title>1-&gt;2</title>\n<path d=\"M82.6477,-103.9815C78.2625,-95.2504 73.6267,-86.0202 69.211,-77.2281\" fill=\"none\" stroke=\"#000000\"/>\n<polygon fill=\"#000000\" points=\"72.3246,-75.6291 64.7087,-68.2637 66.0692,-78.7708 72.3246,-75.6291\" stroke=\"#000000\"/>\n</g>\n<!-- 3 -->\n<g class=\"node\" id=\"node4\">\n<title>3</title>\n<polygon fill=\"#399de5\" points=\"208,-68 113,-68 113,0 208,0 208,-68\" stroke=\"#000000\"/>\n<text fill=\"#000000\" font-family=\"Times,serif\" font-size=\"14.00\" text-anchor=\"middle\" x=\"160.5\" y=\"-52.8\">entropy = 0.0</text>\n<text fill=\"#000000\" font-family=\"Times,serif\" font-size=\"14.00\" text-anchor=\"middle\" x=\"160.5\" y=\"-37.8\">samples = 1</text>\n<text fill=\"#000000\" font-family=\"Times,serif\" font-size=\"14.00\" text-anchor=\"middle\" x=\"160.5\" y=\"-22.8\">value = [0, 1]</text>\n<text fill=\"#000000\" font-family=\"Times,serif\" font-size=\"14.00\" text-anchor=\"middle\" x=\"160.5\" y=\"-7.8\">class = yes</text>\n</g>\n<!-- 1&#45;&gt;3 -->\n<g class=\"edge\" id=\"edge3\">\n<title>1-&gt;3</title>\n<path d=\"M124.7247,-103.9815C129.1881,-95.2504 133.9067,-86.0202 138.4013,-77.2281\" fill=\"none\" stroke=\"#000000\"/>\n<polygon fill=\"#000000\" points=\"141.5486,-78.7608 142.984,-68.2637 135.3158,-75.5745 141.5486,-78.7608\" stroke=\"#000000\"/>\n</g>\n</g>\n</svg>"
          },
          "metadata": {
            "tags": []
          }
        },
        {
          "output_type": "execute_result",
          "data": {
            "text/html": [
              "<style>svg{width:30% !important;height:30% !important;}</style>"
            ],
            "text/plain": [
              "<IPython.core.display.HTML object>"
            ]
          },
          "metadata": {
            "tags": []
          },
          "execution_count": 25
        }
      ]
    },
    {
      "cell_type": "markdown",
      "metadata": {
        "id": "el2bJqwqt3En"
      },
      "source": [
        "### Here are results for the second one"
      ]
    },
    {
      "cell_type": "code",
      "metadata": {
        "colab": {
          "base_uri": "https://localhost:8080/"
        },
        "id": "Aqxb7Uk-tsTR",
        "outputId": "6ff91bdc-4484-40a4-dbd3-81ccf3863f33"
      },
      "source": [
        "X = df_train_normilize.loc[df_train_normilize.index >= 20, ['std_glucose']]\n",
        "y = df_train_normilize.loc[df_train_normilize.index >= 20, 'class']\n",
        "y1 = cls.predict(X)\n",
        "\n",
        "print(\"Accuracy: \",accuracy_score(y, y1))\n",
        "print(\"Precision: \",precision_score(y, y1))\n",
        "print(\"Recall: \",recall_score(y, y1))"
      ],
      "execution_count": null,
      "outputs": [
        {
          "output_type": "stream",
          "text": [
            "Accuracy:  0.8779472954230236\n",
            "Precision:  0.23076923076923078\n",
            "Recall:  0.08108108108108109\n"
          ],
          "name": "stdout"
        }
      ]
    },
    {
      "cell_type": "markdown",
      "metadata": {
        "id": "sw1fwsBHt5qa"
      },
      "source": [
        "### Now both of the parametres are used in the training"
      ]
    },
    {
      "cell_type": "code",
      "metadata": {
        "colab": {
          "base_uri": "https://localhost:8080/"
        },
        "id": "WzGcE0YNml2I",
        "outputId": "8be92330-1c55-4195-e3e7-c21cc13fc691"
      },
      "source": [
        "cls = DecisionTreeClassifier(criterion='entropy')\n",
        "df0 = df_train_normilize.loc[df_train_normilize['class']==0][:10]\n",
        "df1 = df_train_normilize.loc[df_train_normilize['class']==1][:10]\n",
        "df = pd.concat([df0, df1])\n",
        "X = df[['std_glucose', 'std_oxygen']]\n",
        "y = df[['class']]\n",
        "cls.fit(X, y)"
      ],
      "execution_count": null,
      "outputs": [
        {
          "output_type": "execute_result",
          "data": {
            "text/plain": [
              "DecisionTreeClassifier(ccp_alpha=0.0, class_weight=None, criterion='entropy',\n",
              "                       max_depth=None, max_features=None, max_leaf_nodes=None,\n",
              "                       min_impurity_decrease=0.0, min_impurity_split=None,\n",
              "                       min_samples_leaf=1, min_samples_split=2,\n",
              "                       min_weight_fraction_leaf=0.0, presort='deprecated',\n",
              "                       random_state=None, splitter='best')"
            ]
          },
          "metadata": {
            "tags": []
          },
          "execution_count": 27
        }
      ]
    },
    {
      "cell_type": "code",
      "metadata": {
        "colab": {
          "base_uri": "https://localhost:8080/",
          "height": 460
        },
        "id": "a8o1FogymkBr",
        "outputId": "c07c7972-cc80-4add-f36e-4430574de177"
      },
      "source": [
        "graph = Source(export_graphviz(cls, \n",
        "                               out_file=None,\n",
        "                               feature_names=['std_glucose', 'std_oxygen'],\n",
        "                               class_names=['no', 'yes'],\n",
        "                               filled = True))\n",
        "display(SVG(graph.pipe(format='svg')))\n",
        "\n",
        "style = \"<style>svg{width:30% !important;height:30% !important;}</style>\"\n",
        "HTML(style)"
      ],
      "execution_count": null,
      "outputs": [
        {
          "output_type": "display_data",
          "data": {
            "text/plain": [
              "<IPython.core.display.SVG object>"
            ],
            "image/svg+xml": "<svg height=\"433pt\" viewBox=\"0.00 0.00 304.00 433.00\" width=\"304pt\" xmlns=\"http://www.w3.org/2000/svg\" xmlns:xlink=\"http://www.w3.org/1999/xlink\">\n<g class=\"graph\" id=\"graph0\" transform=\"scale(1 1) rotate(0) translate(4 429)\">\n<title>Tree</title>\n<polygon fill=\"#ffffff\" points=\"-4,4 -4,-429 300,-429 300,4 -4,4\" stroke=\"transparent\"/>\n<!-- 0 -->\n<g class=\"node\" id=\"node1\">\n<title>0</title>\n<polygon fill=\"#ffffff\" points=\"252.5,-425 110.5,-425 110.5,-342 252.5,-342 252.5,-425\" stroke=\"#000000\"/>\n<text fill=\"#000000\" font-family=\"Times,serif\" font-size=\"14.00\" text-anchor=\"middle\" x=\"181.5\" y=\"-409.8\">std_oxygen &lt;= 0.847</text>\n<text fill=\"#000000\" font-family=\"Times,serif\" font-size=\"14.00\" text-anchor=\"middle\" x=\"181.5\" y=\"-394.8\">entropy = 1.0</text>\n<text fill=\"#000000\" font-family=\"Times,serif\" font-size=\"14.00\" text-anchor=\"middle\" x=\"181.5\" y=\"-379.8\">samples = 20</text>\n<text fill=\"#000000\" font-family=\"Times,serif\" font-size=\"14.00\" text-anchor=\"middle\" x=\"181.5\" y=\"-364.8\">value = [10, 10]</text>\n<text fill=\"#000000\" font-family=\"Times,serif\" font-size=\"14.00\" text-anchor=\"middle\" x=\"181.5\" y=\"-349.8\">class = no</text>\n</g>\n<!-- 1 -->\n<g class=\"node\" id=\"node2\">\n<title>1</title>\n<polygon fill=\"#e88e4d\" points=\"182.5,-306 48.5,-306 48.5,-223 182.5,-223 182.5,-306\" stroke=\"#000000\"/>\n<text fill=\"#000000\" font-family=\"Times,serif\" font-size=\"14.00\" text-anchor=\"middle\" x=\"115.5\" y=\"-290.8\">std_glucose &lt;= 1.04</text>\n<text fill=\"#000000\" font-family=\"Times,serif\" font-size=\"14.00\" text-anchor=\"middle\" x=\"115.5\" y=\"-275.8\">entropy = 0.439</text>\n<text fill=\"#000000\" font-family=\"Times,serif\" font-size=\"14.00\" text-anchor=\"middle\" x=\"115.5\" y=\"-260.8\">samples = 11</text>\n<text fill=\"#000000\" font-family=\"Times,serif\" font-size=\"14.00\" text-anchor=\"middle\" x=\"115.5\" y=\"-245.8\">value = [10, 1]</text>\n<text fill=\"#000000\" font-family=\"Times,serif\" font-size=\"14.00\" text-anchor=\"middle\" x=\"115.5\" y=\"-230.8\">class = no</text>\n</g>\n<!-- 0&#45;&gt;1 -->\n<g class=\"edge\" id=\"edge1\">\n<title>0-&gt;1</title>\n<path d=\"M158.4164,-341.8796C153.6211,-333.2335 148.5178,-324.0322 143.5662,-315.1042\" fill=\"none\" stroke=\"#000000\"/>\n<polygon fill=\"#000000\" points=\"146.5931,-313.3455 138.6821,-306.2981 140.4716,-316.7407 146.5931,-313.3455\" stroke=\"#000000\"/>\n<text fill=\"#000000\" font-family=\"Times,serif\" font-size=\"14.00\" text-anchor=\"middle\" x=\"131.7969\" y=\"-326.6313\">True</text>\n</g>\n<!-- 6 -->\n<g class=\"node\" id=\"node7\">\n<title>6</title>\n<polygon fill=\"#399de5\" points=\"296,-298.5 201,-298.5 201,-230.5 296,-230.5 296,-298.5\" stroke=\"#000000\"/>\n<text fill=\"#000000\" font-family=\"Times,serif\" font-size=\"14.00\" text-anchor=\"middle\" x=\"248.5\" y=\"-283.3\">entropy = 0.0</text>\n<text fill=\"#000000\" font-family=\"Times,serif\" font-size=\"14.00\" text-anchor=\"middle\" x=\"248.5\" y=\"-268.3\">samples = 9</text>\n<text fill=\"#000000\" font-family=\"Times,serif\" font-size=\"14.00\" text-anchor=\"middle\" x=\"248.5\" y=\"-253.3\">value = [0, 9]</text>\n<text fill=\"#000000\" font-family=\"Times,serif\" font-size=\"14.00\" text-anchor=\"middle\" x=\"248.5\" y=\"-238.3\">class = yes</text>\n</g>\n<!-- 0&#45;&gt;6 -->\n<g class=\"edge\" id=\"edge6\">\n<title>0-&gt;6</title>\n<path d=\"M204.9333,-341.8796C211.1863,-330.7735 217.9552,-318.7513 224.251,-307.5691\" fill=\"none\" stroke=\"#000000\"/>\n<polygon fill=\"#000000\" points=\"227.3235,-309.2459 229.1798,-298.8149 221.2239,-305.8116 227.3235,-309.2459\" stroke=\"#000000\"/>\n<text fill=\"#000000\" font-family=\"Times,serif\" font-size=\"14.00\" text-anchor=\"middle\" x=\"235.911\" y=\"-319.1917\">False</text>\n</g>\n<!-- 2 -->\n<g class=\"node\" id=\"node3\">\n<title>2</title>\n<polygon fill=\"#e58139\" points=\"95,-179.5 0,-179.5 0,-111.5 95,-111.5 95,-179.5\" stroke=\"#000000\"/>\n<text fill=\"#000000\" font-family=\"Times,serif\" font-size=\"14.00\" text-anchor=\"middle\" x=\"47.5\" y=\"-164.3\">entropy = 0.0</text>\n<text fill=\"#000000\" font-family=\"Times,serif\" font-size=\"14.00\" text-anchor=\"middle\" x=\"47.5\" y=\"-149.3\">samples = 9</text>\n<text fill=\"#000000\" font-family=\"Times,serif\" font-size=\"14.00\" text-anchor=\"middle\" x=\"47.5\" y=\"-134.3\">value = [9, 0]</text>\n<text fill=\"#000000\" font-family=\"Times,serif\" font-size=\"14.00\" text-anchor=\"middle\" x=\"47.5\" y=\"-119.3\">class = no</text>\n</g>\n<!-- 1&#45;&gt;2 -->\n<g class=\"edge\" id=\"edge2\">\n<title>1-&gt;2</title>\n<path d=\"M91.7169,-222.8796C85.3706,-211.7735 78.5007,-199.7513 72.1109,-188.5691\" fill=\"none\" stroke=\"#000000\"/>\n<polygon fill=\"#000000\" points=\"75.1088,-186.7609 67.1085,-179.8149 69.0311,-190.2339 75.1088,-186.7609\" stroke=\"#000000\"/>\n</g>\n<!-- 3 -->\n<g class=\"node\" id=\"node4\">\n<title>3</title>\n<polygon fill=\"#ffffff\" points=\"255.5,-187 113.5,-187 113.5,-104 255.5,-104 255.5,-187\" stroke=\"#000000\"/>\n<text fill=\"#000000\" font-family=\"Times,serif\" font-size=\"14.00\" text-anchor=\"middle\" x=\"184.5\" y=\"-171.8\">std_glucose &lt;= 1.356</text>\n<text fill=\"#000000\" font-family=\"Times,serif\" font-size=\"14.00\" text-anchor=\"middle\" x=\"184.5\" y=\"-156.8\">entropy = 1.0</text>\n<text fill=\"#000000\" font-family=\"Times,serif\" font-size=\"14.00\" text-anchor=\"middle\" x=\"184.5\" y=\"-141.8\">samples = 2</text>\n<text fill=\"#000000\" font-family=\"Times,serif\" font-size=\"14.00\" text-anchor=\"middle\" x=\"184.5\" y=\"-126.8\">value = [1, 1]</text>\n<text fill=\"#000000\" font-family=\"Times,serif\" font-size=\"14.00\" text-anchor=\"middle\" x=\"184.5\" y=\"-111.8\">class = no</text>\n</g>\n<!-- 1&#45;&gt;3 -->\n<g class=\"edge\" id=\"edge3\">\n<title>1-&gt;3</title>\n<path d=\"M139.6329,-222.8796C144.6461,-214.2335 149.9813,-205.0322 155.1581,-196.1042\" fill=\"none\" stroke=\"#000000\"/>\n<polygon fill=\"#000000\" points=\"158.2758,-197.7047 160.2641,-187.2981 152.2202,-194.1934 158.2758,-197.7047\" stroke=\"#000000\"/>\n</g>\n<!-- 4 -->\n<g class=\"node\" id=\"node5\">\n<title>4</title>\n<polygon fill=\"#399de5\" points=\"175,-68 80,-68 80,0 175,0 175,-68\" stroke=\"#000000\"/>\n<text fill=\"#000000\" font-family=\"Times,serif\" font-size=\"14.00\" text-anchor=\"middle\" x=\"127.5\" y=\"-52.8\">entropy = 0.0</text>\n<text fill=\"#000000\" font-family=\"Times,serif\" font-size=\"14.00\" text-anchor=\"middle\" x=\"127.5\" y=\"-37.8\">samples = 1</text>\n<text fill=\"#000000\" font-family=\"Times,serif\" font-size=\"14.00\" text-anchor=\"middle\" x=\"127.5\" y=\"-22.8\">value = [0, 1]</text>\n<text fill=\"#000000\" font-family=\"Times,serif\" font-size=\"14.00\" text-anchor=\"middle\" x=\"127.5\" y=\"-7.8\">class = yes</text>\n</g>\n<!-- 3&#45;&gt;4 -->\n<g class=\"edge\" id=\"edge4\">\n<title>3-&gt;4</title>\n<path d=\"M163.2753,-103.9815C158.8119,-95.2504 154.0933,-86.0202 149.5987,-77.2281\" fill=\"none\" stroke=\"#000000\"/>\n<polygon fill=\"#000000\" points=\"152.6842,-75.5745 145.016,-68.2637 146.4514,-78.7608 152.6842,-75.5745\" stroke=\"#000000\"/>\n</g>\n<!-- 5 -->\n<g class=\"node\" id=\"node6\">\n<title>5</title>\n<polygon fill=\"#e58139\" points=\"288,-68 193,-68 193,0 288,0 288,-68\" stroke=\"#000000\"/>\n<text fill=\"#000000\" font-family=\"Times,serif\" font-size=\"14.00\" text-anchor=\"middle\" x=\"240.5\" y=\"-52.8\">entropy = 0.0</text>\n<text fill=\"#000000\" font-family=\"Times,serif\" font-size=\"14.00\" text-anchor=\"middle\" x=\"240.5\" y=\"-37.8\">samples = 1</text>\n<text fill=\"#000000\" font-family=\"Times,serif\" font-size=\"14.00\" text-anchor=\"middle\" x=\"240.5\" y=\"-22.8\">value = [1, 0]</text>\n<text fill=\"#000000\" font-family=\"Times,serif\" font-size=\"14.00\" text-anchor=\"middle\" x=\"240.5\" y=\"-7.8\">class = no</text>\n</g>\n<!-- 3&#45;&gt;5 -->\n<g class=\"edge\" id=\"edge5\">\n<title>3-&gt;5</title>\n<path d=\"M205.3523,-103.9815C209.7375,-95.2504 214.3733,-86.0202 218.789,-77.2281\" fill=\"none\" stroke=\"#000000\"/>\n<polygon fill=\"#000000\" points=\"221.9308,-78.7708 223.2913,-68.2637 215.6754,-75.6291 221.9308,-78.7708\" stroke=\"#000000\"/>\n</g>\n</g>\n</svg>"
          },
          "metadata": {
            "tags": []
          }
        },
        {
          "output_type": "execute_result",
          "data": {
            "text/html": [
              "<style>svg{width:30% !important;height:30% !important;}</style>"
            ],
            "text/plain": [
              "<IPython.core.display.HTML object>"
            ]
          },
          "metadata": {
            "tags": []
          },
          "execution_count": 28
        }
      ]
    },
    {
      "cell_type": "markdown",
      "metadata": {
        "id": "7x6KaoouuF7q"
      },
      "source": [
        "### Results of the last training"
      ]
    },
    {
      "cell_type": "code",
      "metadata": {
        "colab": {
          "base_uri": "https://localhost:8080/"
        },
        "id": "tY5sdJbdnOcv",
        "outputId": "13dfaef4-aedb-4ac4-eec5-bed190f9a4de"
      },
      "source": [
        "X = df_train_normilize.loc[df_train_normilize['class']==0, ['std_glucose', 'std_oxygen']][10:]\n",
        "X1 = df_train_normilize.loc[df_train_normilize['class']==1, ['std_glucose', 'std_oxygen']][10:]\n",
        "X= pd.concat([X, X1])\n",
        "y = df_train_normilize.loc[df_train_normilize['class']==0, ['class']][10:]\n",
        "y1 = df_train_normilize.loc[df_train_normilize['class']==1, ['class']][10:]\n",
        "y= pd.concat([y, y1])\n",
        "y_res = cls.predict(X)\n",
        "\n",
        "print(\"Accuracy: \",accuracy_score(y, y_res))\n",
        "print(\"Precision: \",precision_score(y, y_res))\n",
        "print(\"Recall: \",recall_score(y, y_res))"
      ],
      "execution_count": null,
      "outputs": [
        {
          "output_type": "stream",
          "text": [
            "Accuracy:  0.7406380027739251\n",
            "Precision:  0.21495327102803738\n",
            "Recall:  0.7076923076923077\n"
          ],
          "name": "stdout"
        }
      ]
    },
    {
      "cell_type": "markdown",
      "metadata": {
        "id": "7uMCo83azX3-"
      },
      "source": [
        "### As we can see the best result was reached based on 'std_oxygen' parameter. It is better than both manual and using decision trees trainings."
      ]
    },
    {
      "cell_type": "markdown",
      "metadata": {
        "id": "7Y-yz9m3sNpQ"
      },
      "source": [
        "# Hyperparameter tuning"
      ]
    },
    {
      "cell_type": "code",
      "metadata": {
        "colab": {
          "base_uri": "https://localhost:8080/"
        },
        "id": "K7bxDYq3_QrF",
        "outputId": "61a814b4-aace-4fee-a84f-889212694b03"
      },
      "source": [
        "df_train_normilize.info()"
      ],
      "execution_count": null,
      "outputs": [
        {
          "output_type": "stream",
          "text": [
            "<class 'pandas.core.frame.DataFrame'>\n",
            "RangeIndex: 741 entries, 0 to 740\n",
            "Data columns (total 20 columns):\n",
            " #   Column            Non-Null Count  Dtype  \n",
            "---  ------            --------------  -----  \n",
            " 0   age               741 non-null    int64  \n",
            " 1   Male              741 non-null    int64  \n",
            " 2   kurtosis_oxygen   741 non-null    float64\n",
            " 3   occupation        741 non-null    object \n",
            " 4   education-num     741 non-null    float64\n",
            " 5   skewness_glucose  741 non-null    float64\n",
            " 6   mean_glucose      741 non-null    float64\n",
            " 7   std_oxygen        741 non-null    float64\n",
            " 8   capital-gain      741 non-null    float64\n",
            " 9   skewness_oxygen   741 non-null    float64\n",
            " 10  kurtosis_glucose  741 non-null    float64\n",
            " 11  fnlwgt            741 non-null    float64\n",
            " 12  class             741 non-null    float64\n",
            " 13  std_glucose       741 non-null    float64\n",
            " 14  income>50K        741 non-null    int64  \n",
            " 15  mean_oxygen       741 non-null    float64\n",
            " 16  hours-per-week    740 non-null    float64\n",
            " 17  capital-loss      740 non-null    float64\n",
            " 18  workclass         741 non-null    object \n",
            " 19  country           741 non-null    object \n",
            "dtypes: float64(14), int64(3), object(3)\n",
            "memory usage: 115.9+ KB\n"
          ],
          "name": "stdout"
        }
      ]
    },
    {
      "cell_type": "markdown",
      "metadata": {
        "id": "6BEPuWPyaYYn"
      },
      "source": [
        "#### Checking wheteher we have reached overfitting"
      ]
    },
    {
      "cell_type": "code",
      "metadata": {
        "id": "9M5S7lFJqmTO"
      },
      "source": [
        "results = []\n",
        "estimators = []\n",
        "X_train, X_test, y_train, y_test = train_test_split(df_train_normilize[['std_glucose', 'std_oxygen']], df_train_normilize[['class']], test_size=0.2, random_state=4)\n",
        "for i in range(1, X_train.shape[1] + 1):  \n",
        "    row = {'model_complexity': i}\n",
        "    \n",
        "    clf = DecisionTreeClassifier(max_depth = i) \n",
        "    \n",
        "    pred = clf.fit(X_train, y_train).predict(X_train) \n",
        "    \n",
        "    row['train'] = 1-accuracy_score(y_train, pred) \n",
        "    \n",
        "    pred = clf.predict(X_test)\n",
        "    \n",
        "    row['test'] = 1-accuracy_score(y_test, pred) \n",
        "    results.append(row)\n",
        "    estimators.append(clf)"
      ],
      "execution_count": null,
      "outputs": []
    },
    {
      "cell_type": "code",
      "metadata": {
        "colab": {
          "base_uri": "https://localhost:8080/",
          "height": 112
        },
        "id": "gDbgMaeb1Zfi",
        "outputId": "9056675e-a51c-43db-dd52-ba5373a21826"
      },
      "source": [
        "complexity_df = pd.DataFrame(results)\n",
        "complexity_df.head()"
      ],
      "execution_count": null,
      "outputs": [
        {
          "output_type": "execute_result",
          "data": {
            "text/html": [
              "<div>\n",
              "<style scoped>\n",
              "    .dataframe tbody tr th:only-of-type {\n",
              "        vertical-align: middle;\n",
              "    }\n",
              "\n",
              "    .dataframe tbody tr th {\n",
              "        vertical-align: top;\n",
              "    }\n",
              "\n",
              "    .dataframe thead th {\n",
              "        text-align: right;\n",
              "    }\n",
              "</style>\n",
              "<table border=\"1\" class=\"dataframe\">\n",
              "  <thead>\n",
              "    <tr style=\"text-align: right;\">\n",
              "      <th></th>\n",
              "      <th>model_complexity</th>\n",
              "      <th>train</th>\n",
              "      <th>test</th>\n",
              "    </tr>\n",
              "  </thead>\n",
              "  <tbody>\n",
              "    <tr>\n",
              "      <th>0</th>\n",
              "      <td>1</td>\n",
              "      <td>0.094595</td>\n",
              "      <td>0.093960</td>\n",
              "    </tr>\n",
              "    <tr>\n",
              "      <th>1</th>\n",
              "      <td>2</td>\n",
              "      <td>0.060811</td>\n",
              "      <td>0.087248</td>\n",
              "    </tr>\n",
              "  </tbody>\n",
              "</table>\n",
              "</div>"
            ],
            "text/plain": [
              "   model_complexity     train      test\n",
              "0                 1  0.094595  0.093960\n",
              "1                 2  0.060811  0.087248"
            ]
          },
          "metadata": {
            "tags": []
          },
          "execution_count": 32
        }
      ]
    },
    {
      "cell_type": "code",
      "metadata": {
        "colab": {
          "base_uri": "https://localhost:8080/",
          "height": 298
        },
        "id": "gJBqlKeE1dej",
        "outputId": "53a39dfe-5b45-45d3-9928-616122bf4ecc"
      },
      "source": [
        "complexity_df.plot(x='model_complexity')"
      ],
      "execution_count": null,
      "outputs": [
        {
          "output_type": "execute_result",
          "data": {
            "text/plain": [
              "<matplotlib.axes._subplots.AxesSubplot at 0x7f3ed4b34320>"
            ]
          },
          "metadata": {
            "tags": []
          },
          "execution_count": 33
        },
        {
          "output_type": "display_data",
          "data": {
            "image/png": "[encoded data removed]",
            "text/plain": [
              "<Figure size 432x288 with 1 Axes>"
            ]
          },
          "metadata": {
            "tags": [],
            "needs_background": "light"
          }
        }
      ]
    },
    {
      "cell_type": "markdown",
      "metadata": {
        "id": "8R6Bnm4ta1Ym"
      },
      "source": [
        "#### As we can see, the bigger model complexity  is the worse results are, that means that there is no overfitting"
      ]
    },
    {
      "cell_type": "code",
      "metadata": {
        "id": "sfIKJl162RwO"
      },
      "source": [
        "def plot_valid_curve(param_range, train_scores_mean, train_scores_std, test_scores_mean, test_scores_std):\n",
        "    plt.title(\"Validation Curve\")\n",
        "    plt.xlabel(r\"$\\gamma$\")\n",
        "    plt.ylabel(\"Score\")\n",
        "    # plt.si\n",
        "    # plt.ylim(0.991, 1.001)\n",
        "    lw = 2\n",
        "    plt.semilogx(param_range, \n",
        "                 train_scores_mean, \n",
        "                 label=\"Training score\",\n",
        "                 color=\"darkorange\", \n",
        "                 lw=lw\n",
        "                )\n",
        "    plt.fill_between(param_range, \n",
        "                     train_scores_mean - train_scores_std,\n",
        "                     train_scores_mean + train_scores_std, \n",
        "                     alpha=0.2,\n",
        "                     color=\"darkorange\", \n",
        "                     lw=lw\n",
        "                    )\n",
        "    plt.semilogx(param_range, \n",
        "                 test_scores_mean, \n",
        "                 label=\"Cross-validation score\",\n",
        "                 color=\"navy\", \n",
        "                 lw=lw\n",
        "                )\n",
        "    plt.fill_between(param_range, \n",
        "                     test_scores_mean - test_scores_std,\n",
        "                     test_scores_mean + test_scores_std, \n",
        "                     alpha=0.2,\n",
        "                     color=\"navy\", \n",
        "                     lw=lw\n",
        "                    )\n",
        "    plt.legend(loc=\"best\")    \n",
        "    return"
      ],
      "execution_count": null,
      "outputs": []
    },
    {
      "cell_type": "markdown",
      "metadata": {
        "id": "skuJKNYlbCZi"
      },
      "source": [
        "#### Next step is to find best hyperparameters."
      ]
    },
    {
      "cell_type": "markdown",
      "metadata": {
        "id": "WrmJca87bIg5"
      },
      "source": [
        "#### Below we test only one hyperparameter"
      ]
    },
    {
      "cell_type": "code",
      "metadata": {
        "id": "NmbBgg1V7mvc",
        "colab": {
          "base_uri": "https://localhost:8080/"
        },
        "outputId": "fd3d94da-e2e4-4d5f-b1c3-b99f1b054344"
      },
      "source": [
        "# param_range = [{\"std_glucose\":1, \"std_oxygen\":2}, {\"std_glucose\":2, \"std_oxygen\":1}, {\"std_glucose\":1, \"std_oxygen\":1},{\"std_glucose\":1.5, \"std_oxygen\":2}, {\"std_glucose\":2, \"std_oxygen\":1.5}]\n",
        "param_range = [{0: 1, 1: 1}, {0: 1, 1: 2},{0: 2, 1: 2}, {0: 2, 1: 1.5}, {0: 1.5, 1: 2}, {0:1, 1:3}, {0:3, 1:1}]\n",
        "# param_range=[1,2,3,4,5]\n",
        "train_scores, test_scores = validation_curve(DecisionTreeClassifier(),\n",
        "                                             X = X_train, \n",
        "                                             y = y_train, \n",
        "                                             param_name = 'class_weight', \n",
        "                                             param_range = param_range, \n",
        "                                             scoring=\"accuracy\",\n",
        "                                             cv = 3\n",
        "                                            )\n",
        "train_scores_mean = np.mean(train_scores, axis=1)\n",
        "train_scores_std = np.std(train_scores, axis=1)\n",
        "test_scores_mean = np.mean(test_scores, axis=1)\n",
        "test_scores_std = np.std(test_scores, axis=1)\n",
        "\n",
        "print(train_scores)\n",
        "print(test_scores)"
      ],
      "execution_count": null,
      "outputs": [
        {
          "output_type": "stream",
          "text": [
            "[[1. 1. 1.]\n",
            " [1. 1. 1.]\n",
            " [1. 1. 1.]\n",
            " [1. 1. 1.]\n",
            " [1. 1. 1.]\n",
            " [1. 1. 1.]\n",
            " [1. 1. 1.]]\n",
            "[[0.84848485 0.86294416 0.92385787]\n",
            " [0.8989899  0.89847716 0.90862944]\n",
            " [0.84848485 0.85786802 0.93401015]\n",
            " [0.85858586 0.85786802 0.91878173]\n",
            " [0.87878788 0.87817259 0.92385787]\n",
            " [0.86868687 0.89340102 0.91878173]\n",
            " [0.87878788 0.88832487 0.92893401]]\n"
          ],
          "name": "stdout"
        }
      ]
    },
    {
      "cell_type": "code",
      "metadata": {
        "colab": {
          "base_uri": "https://localhost:8080/",
          "height": 361
        },
        "id": "btQe0ZtO-Uq-",
        "outputId": "dcda0e02-0a6e-4ae0-a0f1-b7393839af74"
      },
      "source": [
        "plt.rcParams[\"figure.figsize\"] = (20,6)\n",
        "plot_valid_curve([1,2,3,4,5,6,7], train_scores_mean, train_scores_std, test_scores_mean, test_scores_std)"
      ],
      "execution_count": null,
      "outputs": [
        {
          "output_type": "display_data",
          "data": {
            "image/png": "[encoded data removed]",
            "text/plain": [
              "<Figure size 1440x432 with 1 Axes>"
            ]
          },
          "metadata": {
            "tags": [],
            "needs_background": "light"
          }
        }
      ]
    },
    {
      "cell_type": "markdown",
      "metadata": {
        "id": "IB0ThULDbSpr"
      },
      "source": [
        "#### In this step we will try to find the best combination of the hyperparameters (class_weight and cpp_alpha) for the model basing on the accuracy score"
      ]
    },
    {
      "cell_type": "code",
      "metadata": {
        "colab": {
          "base_uri": "https://localhost:8080/"
        },
        "id": "ai8m8zo__VFN",
        "outputId": "fc46de94-1705-4f0b-9382-0f3154c7bc4c"
      },
      "source": [
        "estimator = DecisionTreeClassifier()\n",
        "parameters = {\n",
        "    'class_weight':({0: 1, 1: 1}, {0: 1, 1: 2},{0: 2, 1: 2}, {0: 2, 1: 1.5}, {0: 1.5, 1: 2}, {0:1, 1:3}, {0:3, 1:1}), \n",
        "    'ccp_alpha':[0.0, 1.0, 2.0],\n",
        "\n",
        "  }\n",
        "scoring = ['accuracy',\"recall\", 'precision_micro']\n",
        "\n",
        "clf = GridSearchCV(estimator=estimator, \n",
        "                   param_grid=parameters,\n",
        "                   cv=5,\n",
        "                   scoring=scoring,\n",
        "                   refit='accuracy')\n",
        "\n",
        "search = clf.fit(X_train, y_train)\n",
        "\n",
        "print(search.best_estimator_)\n",
        "print(search.best_params_)\n",
        "print(search.n_splits_)\n"
      ],
      "execution_count": null,
      "outputs": [
        {
          "output_type": "stream",
          "text": [
            "DecisionTreeClassifier(ccp_alpha=0.0, class_weight={0: 2, 1: 1.5},\n",
            "                       criterion='gini', max_depth=None, max_features=None,\n",
            "                       max_leaf_nodes=None, min_impurity_decrease=0.0,\n",
            "                       min_impurity_split=None, min_samples_leaf=1,\n",
            "                       min_samples_split=2, min_weight_fraction_leaf=0.0,\n",
            "                       presort='deprecated', random_state=None,\n",
            "                       splitter='best')\n",
            "{'ccp_alpha': 0.0, 'class_weight': {0: 2, 1: 1.5}}\n",
            "5\n"
          ],
          "name": "stdout"
        }
      ]
    },
    {
      "cell_type": "markdown",
      "metadata": {
        "id": "wGqg3AAXblQv"
      },
      "source": [
        "#### So the best parametrs are :\n",
        "    {\n",
        "      ccp_alpha = 0.0, \n",
        "      class_weight = {0: 2, 1: 1.5}\n",
        "    }\n"
      ]
    },
    {
      "cell_type": "markdown",
      "metadata": {
        "id": "WIvVn8AKb0bR"
      },
      "source": [
        "#### The results of the each hyperparameters combination are in the table and the plot bellow"
      ]
    },
    {
      "cell_type": "code",
      "metadata": {
        "colab": {
          "base_uri": "https://localhost:8080/",
          "height": 728
        },
        "id": "WKprsi28KN36",
        "outputId": "bbb37a52-64ab-4148-a75d-0427b643cb39"
      },
      "source": [
        "results= pd.DataFrame(search.cv_results_);\n",
        "results[['param_ccp_alpha',\t'param_class_weight','mean_test_accuracy', 'rank_test_accuracy','mean_test_precision_micro', 'rank_test_precision_micro','mean_test_recall','rank_test_recall' ]]\n"
      ],
      "execution_count": null,
      "outputs": [
        {
          "output_type": "execute_result",
          "data": {
            "text/html": [
              "<div>\n",
              "<style scoped>\n",
              "    .dataframe tbody tr th:only-of-type {\n",
              "        vertical-align: middle;\n",
              "    }\n",
              "\n",
              "    .dataframe tbody tr th {\n",
              "        vertical-align: top;\n",
              "    }\n",
              "\n",
              "    .dataframe thead th {\n",
              "        text-align: right;\n",
              "    }\n",
              "</style>\n",
              "<table border=\"1\" class=\"dataframe\">\n",
              "  <thead>\n",
              "    <tr style=\"text-align: right;\">\n",
              "      <th></th>\n",
              "      <th>param_ccp_alpha</th>\n",
              "      <th>param_class_weight</th>\n",
              "      <th>mean_test_accuracy</th>\n",
              "      <th>rank_test_accuracy</th>\n",
              "      <th>mean_test_precision_micro</th>\n",
              "      <th>rank_test_precision_micro</th>\n",
              "      <th>mean_test_recall</th>\n",
              "      <th>rank_test_recall</th>\n",
              "    </tr>\n",
              "  </thead>\n",
              "  <tbody>\n",
              "    <tr>\n",
              "      <th>0</th>\n",
              "      <td>0</td>\n",
              "      <td>{0: 1, 1: 1}</td>\n",
              "      <td>0.900385</td>\n",
              "      <td>3</td>\n",
              "      <td>0.900385</td>\n",
              "      <td>3</td>\n",
              "      <td>0.512121</td>\n",
              "      <td>1</td>\n",
              "    </tr>\n",
              "    <tr>\n",
              "      <th>1</th>\n",
              "      <td>0</td>\n",
              "      <td>{0: 1, 1: 2}</td>\n",
              "      <td>0.903774</td>\n",
              "      <td>2</td>\n",
              "      <td>0.903774</td>\n",
              "      <td>2</td>\n",
              "      <td>0.510606</td>\n",
              "      <td>3</td>\n",
              "    </tr>\n",
              "    <tr>\n",
              "      <th>2</th>\n",
              "      <td>0</td>\n",
              "      <td>{0: 2, 1: 2}</td>\n",
              "      <td>0.898690</td>\n",
              "      <td>18</td>\n",
              "      <td>0.898690</td>\n",
              "      <td>18</td>\n",
              "      <td>0.495455</td>\n",
              "      <td>5</td>\n",
              "    </tr>\n",
              "    <tr>\n",
              "      <th>3</th>\n",
              "      <td>0</td>\n",
              "      <td>{0: 2, 1: 1.5}</td>\n",
              "      <td>0.905427</td>\n",
              "      <td>1</td>\n",
              "      <td>0.905427</td>\n",
              "      <td>1</td>\n",
              "      <td>0.512121</td>\n",
              "      <td>1</td>\n",
              "    </tr>\n",
              "    <tr>\n",
              "      <th>4</th>\n",
              "      <td>0</td>\n",
              "      <td>{0: 1.5, 1: 2}</td>\n",
              "      <td>0.898661</td>\n",
              "      <td>19</td>\n",
              "      <td>0.898661</td>\n",
              "      <td>19</td>\n",
              "      <td>0.510606</td>\n",
              "      <td>3</td>\n",
              "    </tr>\n",
              "    <tr>\n",
              "      <th>5</th>\n",
              "      <td>0</td>\n",
              "      <td>{0: 1, 1: 3}</td>\n",
              "      <td>0.891953</td>\n",
              "      <td>20</td>\n",
              "      <td>0.891953</td>\n",
              "      <td>20</td>\n",
              "      <td>0.490909</td>\n",
              "      <td>6</td>\n",
              "    </tr>\n",
              "    <tr>\n",
              "      <th>6</th>\n",
              "      <td>0</td>\n",
              "      <td>{0: 3, 1: 1}</td>\n",
              "      <td>0.885159</td>\n",
              "      <td>21</td>\n",
              "      <td>0.885159</td>\n",
              "      <td>21</td>\n",
              "      <td>0.425758</td>\n",
              "      <td>7</td>\n",
              "    </tr>\n",
              "    <tr>\n",
              "      <th>7</th>\n",
              "      <td>1</td>\n",
              "      <td>{0: 1, 1: 1}</td>\n",
              "      <td>0.900342</td>\n",
              "      <td>4</td>\n",
              "      <td>0.900342</td>\n",
              "      <td>4</td>\n",
              "      <td>0.000000</td>\n",
              "      <td>8</td>\n",
              "    </tr>\n",
              "    <tr>\n",
              "      <th>8</th>\n",
              "      <td>1</td>\n",
              "      <td>{0: 1, 1: 2}</td>\n",
              "      <td>0.900342</td>\n",
              "      <td>4</td>\n",
              "      <td>0.900342</td>\n",
              "      <td>4</td>\n",
              "      <td>0.000000</td>\n",
              "      <td>8</td>\n",
              "    </tr>\n",
              "    <tr>\n",
              "      <th>9</th>\n",
              "      <td>1</td>\n",
              "      <td>{0: 2, 1: 2}</td>\n",
              "      <td>0.900342</td>\n",
              "      <td>4</td>\n",
              "      <td>0.900342</td>\n",
              "      <td>4</td>\n",
              "      <td>0.000000</td>\n",
              "      <td>8</td>\n",
              "    </tr>\n",
              "    <tr>\n",
              "      <th>10</th>\n",
              "      <td>1</td>\n",
              "      <td>{0: 2, 1: 1.5}</td>\n",
              "      <td>0.900342</td>\n",
              "      <td>4</td>\n",
              "      <td>0.900342</td>\n",
              "      <td>4</td>\n",
              "      <td>0.000000</td>\n",
              "      <td>8</td>\n",
              "    </tr>\n",
              "    <tr>\n",
              "      <th>11</th>\n",
              "      <td>1</td>\n",
              "      <td>{0: 1.5, 1: 2}</td>\n",
              "      <td>0.900342</td>\n",
              "      <td>4</td>\n",
              "      <td>0.900342</td>\n",
              "      <td>4</td>\n",
              "      <td>0.000000</td>\n",
              "      <td>8</td>\n",
              "    </tr>\n",
              "    <tr>\n",
              "      <th>12</th>\n",
              "      <td>1</td>\n",
              "      <td>{0: 1, 1: 3}</td>\n",
              "      <td>0.900342</td>\n",
              "      <td>4</td>\n",
              "      <td>0.900342</td>\n",
              "      <td>4</td>\n",
              "      <td>0.000000</td>\n",
              "      <td>8</td>\n",
              "    </tr>\n",
              "    <tr>\n",
              "      <th>13</th>\n",
              "      <td>1</td>\n",
              "      <td>{0: 3, 1: 1}</td>\n",
              "      <td>0.900342</td>\n",
              "      <td>4</td>\n",
              "      <td>0.900342</td>\n",
              "      <td>4</td>\n",
              "      <td>0.000000</td>\n",
              "      <td>8</td>\n",
              "    </tr>\n",
              "    <tr>\n",
              "      <th>14</th>\n",
              "      <td>2</td>\n",
              "      <td>{0: 1, 1: 1}</td>\n",
              "      <td>0.900342</td>\n",
              "      <td>4</td>\n",
              "      <td>0.900342</td>\n",
              "      <td>4</td>\n",
              "      <td>0.000000</td>\n",
              "      <td>8</td>\n",
              "    </tr>\n",
              "    <tr>\n",
              "      <th>15</th>\n",
              "      <td>2</td>\n",
              "      <td>{0: 1, 1: 2}</td>\n",
              "      <td>0.900342</td>\n",
              "      <td>4</td>\n",
              "      <td>0.900342</td>\n",
              "      <td>4</td>\n",
              "      <td>0.000000</td>\n",
              "      <td>8</td>\n",
              "    </tr>\n",
              "    <tr>\n",
              "      <th>16</th>\n",
              "      <td>2</td>\n",
              "      <td>{0: 2, 1: 2}</td>\n",
              "      <td>0.900342</td>\n",
              "      <td>4</td>\n",
              "      <td>0.900342</td>\n",
              "      <td>4</td>\n",
              "      <td>0.000000</td>\n",
              "      <td>8</td>\n",
              "    </tr>\n",
              "    <tr>\n",
              "      <th>17</th>\n",
              "      <td>2</td>\n",
              "      <td>{0: 2, 1: 1.5}</td>\n",
              "      <td>0.900342</td>\n",
              "      <td>4</td>\n",
              "      <td>0.900342</td>\n",
              "      <td>4</td>\n",
              "      <td>0.000000</td>\n",
              "      <td>8</td>\n",
              "    </tr>\n",
              "    <tr>\n",
              "      <th>18</th>\n",
              "      <td>2</td>\n",
              "      <td>{0: 1.5, 1: 2}</td>\n",
              "      <td>0.900342</td>\n",
              "      <td>4</td>\n",
              "      <td>0.900342</td>\n",
              "      <td>4</td>\n",
              "      <td>0.000000</td>\n",
              "      <td>8</td>\n",
              "    </tr>\n",
              "    <tr>\n",
              "      <th>19</th>\n",
              "      <td>2</td>\n",
              "      <td>{0: 1, 1: 3}</td>\n",
              "      <td>0.900342</td>\n",
              "      <td>4</td>\n",
              "      <td>0.900342</td>\n",
              "      <td>4</td>\n",
              "      <td>0.000000</td>\n",
              "      <td>8</td>\n",
              "    </tr>\n",
              "    <tr>\n",
              "      <th>20</th>\n",
              "      <td>2</td>\n",
              "      <td>{0: 3, 1: 1}</td>\n",
              "      <td>0.900342</td>\n",
              "      <td>4</td>\n",
              "      <td>0.900342</td>\n",
              "      <td>4</td>\n",
              "      <td>0.000000</td>\n",
              "      <td>8</td>\n",
              "    </tr>\n",
              "  </tbody>\n",
              "</table>\n",
              "</div>"
            ],
            "text/plain": [
              "   param_ccp_alpha param_class_weight  ...  mean_test_recall  rank_test_recall\n",
              "0                0       {0: 1, 1: 1}  ...          0.512121                 1\n",
              "1                0       {0: 1, 1: 2}  ...          0.510606                 3\n",
              "2                0       {0: 2, 1: 2}  ...          0.495455                 5\n",
              "3                0     {0: 2, 1: 1.5}  ...          0.512121                 1\n",
              "4                0     {0: 1.5, 1: 2}  ...          0.510606                 3\n",
              "5                0       {0: 1, 1: 3}  ...          0.490909                 6\n",
              "6                0       {0: 3, 1: 1}  ...          0.425758                 7\n",
              "7                1       {0: 1, 1: 1}  ...          0.000000                 8\n",
              "8                1       {0: 1, 1: 2}  ...          0.000000                 8\n",
              "9                1       {0: 2, 1: 2}  ...          0.000000                 8\n",
              "10               1     {0: 2, 1: 1.5}  ...          0.000000                 8\n",
              "11               1     {0: 1.5, 1: 2}  ...          0.000000                 8\n",
              "12               1       {0: 1, 1: 3}  ...          0.000000                 8\n",
              "13               1       {0: 3, 1: 1}  ...          0.000000                 8\n",
              "14               2       {0: 1, 1: 1}  ...          0.000000                 8\n",
              "15               2       {0: 1, 1: 2}  ...          0.000000                 8\n",
              "16               2       {0: 2, 1: 2}  ...          0.000000                 8\n",
              "17               2     {0: 2, 1: 1.5}  ...          0.000000                 8\n",
              "18               2     {0: 1.5, 1: 2}  ...          0.000000                 8\n",
              "19               2       {0: 1, 1: 3}  ...          0.000000                 8\n",
              "20               2       {0: 3, 1: 1}  ...          0.000000                 8\n",
              "\n",
              "[21 rows x 8 columns]"
            ]
          },
          "metadata": {
            "tags": []
          },
          "execution_count": 38
        }
      ]
    },
    {
      "cell_type": "code",
      "metadata": {
        "colab": {
          "base_uri": "https://localhost:8080/",
          "height": 354
        },
        "id": "U3pW27dbE6nc",
        "outputId": "356e0bee-a326-4ea1-fa15-24dd498a1924"
      },
      "source": [
        "import json\n",
        "res2 = results\n",
        "res2['params']=res2['params'].apply(lambda x: json.dumps(x))\n",
        "results[\"index\"]=results.index\n",
        "\n",
        "plt.plot( \"index\",'mean_test_accuracy', data=res2, marker='o', markerfacecolor='black', markersize=12, color='skyblue', linewidth=4)\n",
        "plt.plot( \"index\",'mean_test_precision_micro',  data=res2, marker='', color='blue', linewidth=2)\n",
        "plt.plot( \"index\",'mean_test_recall', data=res2, marker='', color='orange', linewidth=2, )\n",
        "plt.xticks(res2.index.tolist())\n",
        "plt.legend()\n",
        "\n"
      ],
      "execution_count": null,
      "outputs": [
        {
          "output_type": "execute_result",
          "data": {
            "text/plain": [
              "<matplotlib.legend.Legend at 0x7f3ed4999828>"
            ]
          },
          "metadata": {
            "tags": []
          },
          "execution_count": 39
        },
        {
          "output_type": "display_data",
          "data": {
            "image/png": "[encoded data removed]",
            "text/plain": [
              "<Figure size 1440x432 with 1 Axes>"
            ]
          },
          "metadata": {
            "tags": [],
            "needs_background": "light"
          }
        }
      ]
    },
    {
      "cell_type": "markdown",
      "metadata": {
        "id": "D56z84uhcHrY"
      },
      "source": [
        "#### The best results calculated by GridSearchCV()"
      ]
    },
    {
      "cell_type": "code",
      "metadata": {
        "colab": {
          "base_uri": "https://localhost:8080/"
        },
        "id": "k8YjBCGRLE_J",
        "outputId": "9767b931-9781-4bbc-8672-128b3c7ddbeb"
      },
      "source": [
        "results.iloc[search.best_index_][['param_ccp_alpha',\t'param_class_weight','mean_test_accuracy','mean_test_precision_micro', 'mean_test_recall' ]]"
      ],
      "execution_count": null,
      "outputs": [
        {
          "output_type": "execute_result",
          "data": {
            "text/plain": [
              "param_ccp_alpha                           0\n",
              "param_class_weight           {0: 2, 1: 1.5}\n",
              "mean_test_accuracy                 0.905427\n",
              "mean_test_precision_micro          0.905427\n",
              "mean_test_recall                   0.512121\n",
              "Name: 3, dtype: object"
            ]
          },
          "metadata": {
            "tags": []
          },
          "execution_count": 40
        }
      ]
    },
    {
      "cell_type": "markdown",
      "metadata": {
        "id": "LiIo8NlMc38F"
      },
      "source": [
        "#### The best results of the recreated model with best hyperparameters"
      ]
    },
    {
      "cell_type": "code",
      "metadata": {
        "colab": {
          "base_uri": "https://localhost:8080/"
        },
        "id": "OKlDkL8IPQlQ",
        "outputId": "e39f270c-5f56-4c00-8b91-ceefaf053d33"
      },
      "source": [
        "cls = DecisionTreeClassifier(criterion='entropy', class_weight= {0: 2, 1: 1.5})\n",
        "df0 = df_train_normilize.loc[df_train_normilize['class']==0][:10]\n",
        "df1 = df_train_normilize.loc[df_train_normilize['class']==1][:10]\n",
        "df = pd.concat([df0, df1])\n",
        "X = df[['std_glucose', 'std_oxygen']]\n",
        "y = df[['class']]\n",
        "cls.fit(X, y)\n",
        "\n",
        "X = df_train_normilize.loc[df_train_normilize['class']==0, ['std_glucose', 'std_oxygen']][10:]\n",
        "X1 = df_train_normilize.loc[df_train_normilize['class']==1, ['std_glucose', 'std_oxygen']][10:]\n",
        "X= pd.concat([X, X1])\n",
        "y = df_train_normilize.loc[df_train_normilize['class']==0, ['class']][10:]\n",
        "y1 = df_train_normilize.loc[df_train_normilize['class']==1, ['class']][10:]\n",
        "y= pd.concat([y, y1])\n",
        "y_res = cls.predict(X)\n",
        "\n",
        "print(\"Accuracy: \",accuracy_score(y, y_res))\n",
        "print(\"Precision: \",precision_score(y, y_res))\n",
        "print(\"Recall: \",recall_score(y, y_res))"
      ],
      "execution_count": null,
      "outputs": [
        {
          "output_type": "stream",
          "text": [
            "Accuracy:  0.7406380027739251\n",
            "Precision:  0.21495327102803738\n",
            "Recall:  0.7076923076923077\n"
          ],
          "name": "stdout"
        }
      ]
    },
    {
      "cell_type": "markdown",
      "metadata": {
        "id": "MrymWxDzPnqr"
      },
      "source": [
        "# Evaluating the effect of the chosen strategy on classification accuracy"
      ]
    },
    {
      "cell_type": "code",
      "metadata": {
        "id": "o1LvT65Qssfl"
      },
      "source": [
        "def removeNAN(df_t):\n",
        "\n",
        "  df_normal_std_glucose_out =df_t[df_t.std_glucose.isnull()]\n",
        "  df_t = df_t.drop(df_normal_std_glucose_out.index)\n",
        "  df_t = df_t.reset_index(drop=True)\n",
        "\n",
        "  df_normal_std_oxygen_out =df_t[df_t.std_oxygen.isnull()]\n",
        "  df_t = df_t.drop(df_normal_std_oxygen_out.index)\n",
        "  df_t = df_t.reset_index(drop=True)\n",
        "\n",
        "  return df_t"
      ],
      "execution_count": null,
      "outputs": []
    },
    {
      "cell_type": "markdown",
      "metadata": {
        "id": "xajmsvsTr_Ky"
      },
      "source": [
        "### Changing NaN values using Simple Imputer."
      ]
    },
    {
      "cell_type": "markdown",
      "metadata": {
        "id": "qtTqvDAa1edL"
      },
      "source": [
        "#### Instead of changing all NaN metrices, we will change only 'std_oxygen' and 'std_glucose' metrices With Simple Imputer"
      ]
    },
    {
      "cell_type": "code",
      "metadata": {
        "id": "4p2FzlhcL8dZ"
      },
      "source": [
        "def removeNAN_Simple(df_t):\n",
        "  imp_most_frequent = SimpleImputer(missing_values=np.nan, strategy='most_frequent')\n",
        "  x_t = imp_most_frequent.fit_transform(df_t[[\"std_oxygen\", \"class\"]])\n",
        "  df_t[\"std_oxygen\"]=x_t[:,0]\n",
        "\n",
        "  imp_most_frequent = SimpleImputer(missing_values=np.nan, strategy='most_frequent')\n",
        "  x_t = imp_most_frequent.fit_transform(df_t[[\"std_glucose\", \"class\"]])\n",
        "  df_t[\"std_glucose\"]=x_t[:,0]\n",
        "\n",
        "  return df_t"
      ],
      "execution_count": null,
      "outputs": []
    },
    {
      "cell_type": "code",
      "metadata": {
        "id": "CABS6Zf4ADGn",
        "colab": {
          "base_uri": "https://localhost:8080/",
          "height": 1000
        },
        "outputId": "f2876c96-09e0-4fb6-8d9a-4dc907a3f147"
      },
      "source": [
        "trans_duplicates = FunctionTransformer(remove_duplicates)\n",
        "trans_date = FunctionTransformer(dateformat_consistent)\n",
        "trans_age = FunctionTransformer(age_to_normal)\n",
        "trans_gender = FunctionTransformer(gender_to_normal)\n",
        "trans_pregnant = FunctionTransformer(pregnant_to_normal)\n",
        "trans_metrics = FunctionTransformer(removeNAN_Simple)\n",
        "trans_occupation = FunctionTransformer(occupation_to_normal)\n",
        "trans_personal_info = FunctionTransformer(personal_info_to_normal)\n",
        "trans_address = FunctionTransformer(address_to_normal)\n",
        "trans_others = FunctionTransformer(others_to_normal)\n",
        "trans_outliers = FunctionTransformer(change_outliers)\n",
        "trans_power = FunctionTransformer(power_t)\n",
        "trans_text = FunctionTransformer(text_normalize)\n",
        "\n",
        "sk_pipe = Pipeline([(\"duplicates\", trans_duplicates), \n",
        "                    (\"date\", trans_date),\n",
        "                    (\"age\", trans_age),\n",
        "                    (\"gender\", trans_gender),\n",
        "                    (\"pregnancy\", trans_pregnant),\n",
        "                    (\"occupation\", trans_occupation),\n",
        "                    (\"metrics\", trans_metrics),\n",
        "                    (\"personal_info\", trans_personal_info),\n",
        "                    (\"address\", trans_address),\n",
        "                    (\"others\", trans_others),\n",
        "                    (\"outliers\", trans_outliers),\n",
        "                    (\"power\", trans_power),\n",
        "                    (\"text\", trans_text)])\n",
        "df_train = load_data()\n",
        "df_train_normilize = sk_pipe.transform(df_train)\n",
        "df_train_normilize"
      ],
      "execution_count": null,
      "outputs": [
        {
          "output_type": "execute_result",
          "data": {
            "text/html": [
              "<div>\n",
              "<style scoped>\n",
              "    .dataframe tbody tr th:only-of-type {\n",
              "        vertical-align: middle;\n",
              "    }\n",
              "\n",
              "    .dataframe tbody tr th {\n",
              "        vertical-align: top;\n",
              "    }\n",
              "\n",
              "    .dataframe thead th {\n",
              "        text-align: right;\n",
              "    }\n",
              "</style>\n",
              "<table border=\"1\" class=\"dataframe\">\n",
              "  <thead>\n",
              "    <tr style=\"text-align: right;\">\n",
              "      <th></th>\n",
              "      <th>age</th>\n",
              "      <th>Male</th>\n",
              "      <th>kurtosis_oxygen</th>\n",
              "      <th>occupation</th>\n",
              "      <th>education-num</th>\n",
              "      <th>skewness_glucose</th>\n",
              "      <th>mean_glucose</th>\n",
              "      <th>std_oxygen</th>\n",
              "      <th>capital-gain</th>\n",
              "      <th>skewness_oxygen</th>\n",
              "      <th>kurtosis_glucose</th>\n",
              "      <th>fnlwgt</th>\n",
              "      <th>class</th>\n",
              "      <th>std_glucose</th>\n",
              "      <th>income&gt;50K</th>\n",
              "      <th>mean_oxygen</th>\n",
              "      <th>hours-per-week</th>\n",
              "      <th>capital-loss</th>\n",
              "      <th>workclass</th>\n",
              "      <th>country</th>\n",
              "    </tr>\n",
              "  </thead>\n",
              "  <tbody>\n",
              "    <tr>\n",
              "      <th>0</th>\n",
              "      <td>35</td>\n",
              "      <td>0</td>\n",
              "      <td>11.901183</td>\n",
              "      <td>[1, 0, 0, 0, 1, 0, 0, 0, 0, 0, 0, 0, 0, 0, 0, ...</td>\n",
              "      <td>10.0</td>\n",
              "      <td>1.100895</td>\n",
              "      <td>NaN</td>\n",
              "      <td>-1.709603</td>\n",
              "      <td>0.0</td>\n",
              "      <td>209.980131</td>\n",
              "      <td>0.538392</td>\n",
              "      <td>145656.0</td>\n",
              "      <td>0.0</td>\n",
              "      <td>-1.243645</td>\n",
              "      <td>0</td>\n",
              "      <td>1.657191</td>\n",
              "      <td>24.0</td>\n",
              "      <td>0.0</td>\n",
              "      <td>[0, 0, 0, 0, 0, 0, 1, 0, 0]</td>\n",
              "      <td>[0, 0, 0, 0, 0, 0, 0, 0, 0, 0, 0, 0, 0, 0, 0, ...</td>\n",
              "    </tr>\n",
              "    <tr>\n",
              "      <th>1</th>\n",
              "      <td>53</td>\n",
              "      <td>0</td>\n",
              "      <td>7.293155</td>\n",
              "      <td>[0, 0, 0, 0, 0, 0, 0, 0, 0, 0, 0, 0, 0, 0, 0, ...</td>\n",
              "      <td>9.0</td>\n",
              "      <td>0.627064</td>\n",
              "      <td>93.109375</td>\n",
              "      <td>0.670061</td>\n",
              "      <td>0.0</td>\n",
              "      <td>209.980131</td>\n",
              "      <td>0.445701</td>\n",
              "      <td>131068.0</td>\n",
              "      <td>0.0</td>\n",
              "      <td>-0.334166</td>\n",
              "      <td>0</td>\n",
              "      <td>3.896321</td>\n",
              "      <td>40.0</td>\n",
              "      <td>0.0</td>\n",
              "      <td>[0, 0, 0, 0, 0, 0, 1, 0, 0]</td>\n",
              "      <td>[0, 0, 0, 0, 0, 0, 0, 0, 0, 0, 0, 0, 0, 0, 0, ...</td>\n",
              "    </tr>\n",
              "    <tr>\n",
              "      <th>2</th>\n",
              "      <td>43</td>\n",
              "      <td>1</td>\n",
              "      <td>6.849557</td>\n",
              "      <td>[0, 0, 0, 0, 0, 1, 0, 0, 0, 0, 0, 0, 0, 0, 0, ...</td>\n",
              "      <td>13.0</td>\n",
              "      <td>0.132196</td>\n",
              "      <td>107.0546875</td>\n",
              "      <td>0.071887</td>\n",
              "      <td>0.0</td>\n",
              "      <td>55.304186</td>\n",
              "      <td>0.244217</td>\n",
              "      <td>156800.0</td>\n",
              "      <td>0.0</td>\n",
              "      <td>-0.474098</td>\n",
              "      <td>0</td>\n",
              "      <td>3.598662</td>\n",
              "      <td>50.0</td>\n",
              "      <td>0.0</td>\n",
              "      <td>[1, 0, 0, 1, 0, 1, 0, 1, 0]</td>\n",
              "      <td>[0, 0, 0, 0, 0, 0, 0, 0, 0, 0, 0, 0, 0, 0, 0, ...</td>\n",
              "    </tr>\n",
              "    <tr>\n",
              "      <th>3</th>\n",
              "      <td>46</td>\n",
              "      <td>1</td>\n",
              "      <td>10.839312</td>\n",
              "      <td>[0, 0, 0, 0, 0, 0, 0, 0, 0, 0, 0, 0, 0, 0, 0, ...</td>\n",
              "      <td>11.0</td>\n",
              "      <td>-0.146138</td>\n",
              "      <td>109.328125</td>\n",
              "      <td>-0.757267</td>\n",
              "      <td>0.0</td>\n",
              "      <td>209.980131</td>\n",
              "      <td>0.380494</td>\n",
              "      <td>306352.0</td>\n",
              "      <td>0.0</td>\n",
              "      <td>0.884799</td>\n",
              "      <td>0</td>\n",
              "      <td>2.132107</td>\n",
              "      <td>40.0</td>\n",
              "      <td>0.0</td>\n",
              "      <td>[0, 0, 0, 0, 0, 0, 1, 0, 0]</td>\n",
              "      <td>[0, 0, 0, 0, 0, 0, 0, 0, 0, 0, 1, 0, 0, 0, 0, ...</td>\n",
              "    </tr>\n",
              "    <tr>\n",
              "      <th>4</th>\n",
              "      <td>52</td>\n",
              "      <td>1</td>\n",
              "      <td>7.153364</td>\n",
              "      <td>[0, 0, 0, 0, 0, 0, 0, 0, 0, 0, 0, 0, 0, 0, 0, ...</td>\n",
              "      <td>10.0</td>\n",
              "      <td>0.891195</td>\n",
              "      <td>NaN</td>\n",
              "      <td>0.554452</td>\n",
              "      <td>0.0</td>\n",
              "      <td>55.738168</td>\n",
              "      <td>0.320338</td>\n",
              "      <td>311177.0</td>\n",
              "      <td>0.0</td>\n",
              "      <td>-1.116407</td>\n",
              "      <td>0</td>\n",
              "      <td>3.721572</td>\n",
              "      <td>30.0</td>\n",
              "      <td>0.0</td>\n",
              "      <td>[1, 0, 0, 1, 0, 1, 0, 1, 0]</td>\n",
              "      <td>[0, 0, 0, 0, 0, 0, 0, 0, 0, 0, 0, 0, 0, 0, 0, ...</td>\n",
              "    </tr>\n",
              "    <tr>\n",
              "      <th>...</th>\n",
              "      <td>...</td>\n",
              "      <td>...</td>\n",
              "      <td>...</td>\n",
              "      <td>...</td>\n",
              "      <td>...</td>\n",
              "      <td>...</td>\n",
              "      <td>...</td>\n",
              "      <td>...</td>\n",
              "      <td>...</td>\n",
              "      <td>...</td>\n",
              "      <td>...</td>\n",
              "      <td>...</td>\n",
              "      <td>...</td>\n",
              "      <td>...</td>\n",
              "      <td>...</td>\n",
              "      <td>...</td>\n",
              "      <td>...</td>\n",
              "      <td>...</td>\n",
              "      <td>...</td>\n",
              "      <td>...</td>\n",
              "    </tr>\n",
              "    <tr>\n",
              "      <th>736</th>\n",
              "      <td>43</td>\n",
              "      <td>1</td>\n",
              "      <td>8.480384</td>\n",
              "      <td>[1, 0, 0, 0, 1, 0, 0, 0, 0, 0, 0, 0, 0, 0, 0, ...</td>\n",
              "      <td>10.0</td>\n",
              "      <td>0.074881</td>\n",
              "      <td>118.7890625</td>\n",
              "      <td>-0.930520</td>\n",
              "      <td>0.0</td>\n",
              "      <td>209.980131</td>\n",
              "      <td>0.160317</td>\n",
              "      <td>107190.0</td>\n",
              "      <td>0.0</td>\n",
              "      <td>-0.224330</td>\n",
              "      <td>0</td>\n",
              "      <td>2.751672</td>\n",
              "      <td>20.0</td>\n",
              "      <td>0.0</td>\n",
              "      <td>[0, 0, 0, 0, 0, 0, 1, 0, 0]</td>\n",
              "      <td>[0, 0, 0, 0, 0, 0, 0, 0, 0, 0, 0, 0, 0, 0, 0, ...</td>\n",
              "    </tr>\n",
              "    <tr>\n",
              "      <th>737</th>\n",
              "      <td>43</td>\n",
              "      <td>1</td>\n",
              "      <td>10.590977</td>\n",
              "      <td>[0, 0, 0, 0, 0, 0, 0, 0, 0, 0, 0, 0, 0, 0, 0, ...</td>\n",
              "      <td>14.0</td>\n",
              "      <td>0.698647</td>\n",
              "      <td>121.859375</td>\n",
              "      <td>-1.553557</td>\n",
              "      <td>0.0</td>\n",
              "      <td>209.980131</td>\n",
              "      <td>0.247989</td>\n",
              "      <td>107302.0</td>\n",
              "      <td>0.0</td>\n",
              "      <td>-0.819286</td>\n",
              "      <td>0</td>\n",
              "      <td>2.071906</td>\n",
              "      <td>40.0</td>\n",
              "      <td>0.0</td>\n",
              "      <td>[0, 0, 0, 0, 0, 0, 1, 0, 0]</td>\n",
              "      <td>[0, 0, 0, 0, 0, 0, 0, 0, 1, 0, 0, 0, 0, 0, 0, ...</td>\n",
              "    </tr>\n",
              "    <tr>\n",
              "      <th>738</th>\n",
              "      <td>59</td>\n",
              "      <td>1</td>\n",
              "      <td>8.721704</td>\n",
              "      <td>[0, 0, 0, 0, 0, 0, 0, 0, 0, 0, 0, 0, 0, 0, 0, ...</td>\n",
              "      <td>10.0</td>\n",
              "      <td>-0.035706</td>\n",
              "      <td>121.1015625</td>\n",
              "      <td>-0.699732</td>\n",
              "      <td>0.0</td>\n",
              "      <td>209.980131</td>\n",
              "      <td>0.236479</td>\n",
              "      <td>189530.0</td>\n",
              "      <td>0.0</td>\n",
              "      <td>-0.760793</td>\n",
              "      <td>0</td>\n",
              "      <td>2.572742</td>\n",
              "      <td>35.0</td>\n",
              "      <td>0.0</td>\n",
              "      <td>[0, 0, 0, 0, 0, 0, 1, 0, 0]</td>\n",
              "      <td>[0, 0, 0, 0, 0, 0, 0, 0, 0, 0, 0, 0, 0, 0, 0, ...</td>\n",
              "    </tr>\n",
              "    <tr>\n",
              "      <th>739</th>\n",
              "      <td>45</td>\n",
              "      <td>0</td>\n",
              "      <td>5.193876</td>\n",
              "      <td>[0, 0, 0, 0, 0, 0, 0, 0, 0, 0, 0, 0, 0, 0, 0, ...</td>\n",
              "      <td>9.0</td>\n",
              "      <td>0.177381</td>\n",
              "      <td>NaN</td>\n",
              "      <td>0.453913</td>\n",
              "      <td>0.0</td>\n",
              "      <td>33.179282</td>\n",
              "      <td>0.075181</td>\n",
              "      <td>105281.0</td>\n",
              "      <td>0.0</td>\n",
              "      <td>0.144706</td>\n",
              "      <td>0</td>\n",
              "      <td>5.558528</td>\n",
              "      <td>40.0</td>\n",
              "      <td>1974.0</td>\n",
              "      <td>[0, 0, 0, 0, 0, 0, 1, 0, 0]</td>\n",
              "      <td>[0, 0, 0, 0, 0, 0, 0, 0, 0, 0, 0, 0, 0, 0, 0, ...</td>\n",
              "    </tr>\n",
              "    <tr>\n",
              "      <th>740</th>\n",
              "      <td>43</td>\n",
              "      <td>1</td>\n",
              "      <td>10.915093</td>\n",
              "      <td>[0, 0, 0, 0, 0, 1, 0, 0, 0, 0, 0, 0, 0, 0, 0, ...</td>\n",
              "      <td>4.0</td>\n",
              "      <td>-0.070660</td>\n",
              "      <td>124.015625</td>\n",
              "      <td>-1.271462</td>\n",
              "      <td>0.0</td>\n",
              "      <td>209.980131</td>\n",
              "      <td>-0.059286</td>\n",
              "      <td>33186.0</td>\n",
              "      <td>0.0</td>\n",
              "      <td>0.486514</td>\n",
              "      <td>0</td>\n",
              "      <td>1.689799</td>\n",
              "      <td>60.0</td>\n",
              "      <td>0.0</td>\n",
              "      <td>[0, 0, 0, 0, 0, 0, 1, 0, 0]</td>\n",
              "      <td>[0, 0, 0, 0, 0, 0, 0, 0, 0, 0, 0, 0, 0, 0, 0, ...</td>\n",
              "    </tr>\n",
              "  </tbody>\n",
              "</table>\n",
              "<p>741 rows × 20 columns</p>\n",
              "</div>"
            ],
            "text/plain": [
              "     age  ...                                            country\n",
              "0     35  ...  [0, 0, 0, 0, 0, 0, 0, 0, 0, 0, 0, 0, 0, 0, 0, ...\n",
              "1     53  ...  [0, 0, 0, 0, 0, 0, 0, 0, 0, 0, 0, 0, 0, 0, 0, ...\n",
              "2     43  ...  [0, 0, 0, 0, 0, 0, 0, 0, 0, 0, 0, 0, 0, 0, 0, ...\n",
              "3     46  ...  [0, 0, 0, 0, 0, 0, 0, 0, 0, 0, 1, 0, 0, 0, 0, ...\n",
              "4     52  ...  [0, 0, 0, 0, 0, 0, 0, 0, 0, 0, 0, 0, 0, 0, 0, ...\n",
              "..   ...  ...                                                ...\n",
              "736   43  ...  [0, 0, 0, 0, 0, 0, 0, 0, 0, 0, 0, 0, 0, 0, 0, ...\n",
              "737   43  ...  [0, 0, 0, 0, 0, 0, 0, 0, 1, 0, 0, 0, 0, 0, 0, ...\n",
              "738   59  ...  [0, 0, 0, 0, 0, 0, 0, 0, 0, 0, 0, 0, 0, 0, 0, ...\n",
              "739   45  ...  [0, 0, 0, 0, 0, 0, 0, 0, 0, 0, 0, 0, 0, 0, 0, ...\n",
              "740   43  ...  [0, 0, 0, 0, 0, 0, 0, 0, 0, 0, 0, 0, 0, 0, 0, ...\n",
              "\n",
              "[741 rows x 20 columns]"
            ]
          },
          "metadata": {
            "tags": []
          },
          "execution_count": 44
        }
      ]
    },
    {
      "cell_type": "markdown",
      "metadata": {
        "id": "CusQrQii17Tj"
      },
      "source": [
        "#### Then we are making DecisionTree for training"
      ]
    },
    {
      "cell_type": "code",
      "metadata": {
        "colab": {
          "base_uri": "https://localhost:8080/"
        },
        "id": "l5B8LGupMXSU",
        "outputId": "07341d92-ed74-4d4a-92b4-c647bf01b5bb"
      },
      "source": [
        "cls = DecisionTreeClassifier(criterion='entropy', class_weight= {0: 2, 1: 1.5})\n",
        "df0 = df_train_normilize.loc[df_train_normilize['class']==0][:10]\n",
        "df1 = df_train_normilize.loc[df_train_normilize['class']==1][:10]\n",
        "df = pd.concat([df0, df1])\n",
        "X = df[['std_glucose', 'std_oxygen']]\n",
        "y = df[['class']]\n",
        "cls.fit(X, y)"
      ],
      "execution_count": null,
      "outputs": [
        {
          "output_type": "execute_result",
          "data": {
            "text/plain": [
              "DecisionTreeClassifier(ccp_alpha=0.0, class_weight={0: 2, 1: 1.5},\n",
              "                       criterion='entropy', max_depth=None, max_features=None,\n",
              "                       max_leaf_nodes=None, min_impurity_decrease=0.0,\n",
              "                       min_impurity_split=None, min_samples_leaf=1,\n",
              "                       min_samples_split=2, min_weight_fraction_leaf=0.0,\n",
              "                       presort='deprecated', random_state=None,\n",
              "                       splitter='best')"
            ]
          },
          "metadata": {
            "tags": []
          },
          "execution_count": 45
        }
      ]
    },
    {
      "cell_type": "code",
      "metadata": {
        "colab": {
          "base_uri": "https://localhost:8080/",
          "height": 413
        },
        "id": "26vhg8MIMqo6",
        "outputId": "720a4c36-aae3-4f14-dfa1-ef1f35fbe30f"
      },
      "source": [
        "graph = Source(export_graphviz(cls, \n",
        "                               out_file=None,\n",
        "                               feature_names=['std_glucose', 'std_oxygen'],\n",
        "                               class_names=['no', 'yes'],\n",
        "                               filled = True))\n",
        "display(SVG(graph.pipe(format='svg')))\n",
        "\n",
        "style = \"<style>svg{width:30% !important;height:30% !important;}</style>\"\n",
        "HTML(style)"
      ],
      "execution_count": null,
      "outputs": [
        {
          "output_type": "display_data",
          "data": {
            "text/plain": [
              "<IPython.core.display.SVG object>"
            ],
            "image/svg+xml": "<svg height=\"433pt\" viewBox=\"0.00 0.00 339.50 433.00\" width=\"340pt\" xmlns=\"http://www.w3.org/2000/svg\" xmlns:xlink=\"http://www.w3.org/1999/xlink\">\n<g class=\"graph\" id=\"graph0\" transform=\"scale(1 1) rotate(0) translate(4 429)\">\n<title>Tree</title>\n<polygon fill=\"#ffffff\" points=\"-4,4 -4,-429 335.5,-429 335.5,4 -4,4\" stroke=\"transparent\"/>\n<!-- 0 -->\n<g class=\"node\" id=\"node1\">\n<title>0</title>\n<polygon fill=\"#f8e0ce\" points=\"266,-425 124,-425 124,-342 266,-342 266,-425\" stroke=\"#000000\"/>\n<text fill=\"#000000\" font-family=\"Times,serif\" font-size=\"14.00\" text-anchor=\"middle\" x=\"195\" y=\"-409.8\">std_oxygen &lt;= 0.847</text>\n<text fill=\"#000000\" font-family=\"Times,serif\" font-size=\"14.00\" text-anchor=\"middle\" x=\"195\" y=\"-394.8\">entropy = 0.985</text>\n<text fill=\"#000000\" font-family=\"Times,serif\" font-size=\"14.00\" text-anchor=\"middle\" x=\"195\" y=\"-379.8\">samples = 20</text>\n<text fill=\"#000000\" font-family=\"Times,serif\" font-size=\"14.00\" text-anchor=\"middle\" x=\"195\" y=\"-364.8\">value = [20, 15]</text>\n<text fill=\"#000000\" font-family=\"Times,serif\" font-size=\"14.00\" text-anchor=\"middle\" x=\"195\" y=\"-349.8\">class = no</text>\n</g>\n<!-- 1 -->\n<g class=\"node\" id=\"node2\">\n<title>1</title>\n<polygon fill=\"#e78a48\" points=\"188,-306 54,-306 54,-223 188,-223 188,-306\" stroke=\"#000000\"/>\n<text fill=\"#000000\" font-family=\"Times,serif\" font-size=\"14.00\" text-anchor=\"middle\" x=\"121\" y=\"-290.8\">std_glucose &lt;= 1.04</text>\n<text fill=\"#000000\" font-family=\"Times,serif\" font-size=\"14.00\" text-anchor=\"middle\" x=\"121\" y=\"-275.8\">entropy = 0.365</text>\n<text fill=\"#000000\" font-family=\"Times,serif\" font-size=\"14.00\" text-anchor=\"middle\" x=\"121\" y=\"-260.8\">samples = 11</text>\n<text fill=\"#000000\" font-family=\"Times,serif\" font-size=\"14.00\" text-anchor=\"middle\" x=\"121\" y=\"-245.8\">value = [20.0, 1.5]</text>\n<text fill=\"#000000\" font-family=\"Times,serif\" font-size=\"14.00\" text-anchor=\"middle\" x=\"121\" y=\"-230.8\">class = no</text>\n</g>\n<!-- 0&#45;&gt;1 -->\n<g class=\"edge\" id=\"edge1\">\n<title>0-&gt;1</title>\n<path d=\"M169.1184,-341.8796C163.6858,-333.1434 157.9008,-323.8404 152.2947,-314.8253\" fill=\"none\" stroke=\"#000000\"/>\n<polygon fill=\"#000000\" points=\"155.2451,-312.9418 146.9921,-306.2981 149.3007,-316.6383 155.2451,-312.9418\" stroke=\"#000000\"/>\n<text fill=\"#000000\" font-family=\"Times,serif\" font-size=\"14.00\" text-anchor=\"middle\" x=\"141.3153\" y=\"-326.945\">True</text>\n</g>\n<!-- 6 -->\n<g class=\"node\" id=\"node7\">\n<title>6</title>\n<polygon fill=\"#399de5\" points=\"331.5,-298.5 206.5,-298.5 206.5,-230.5 331.5,-230.5 331.5,-298.5\" stroke=\"#000000\"/>\n<text fill=\"#000000\" font-family=\"Times,serif\" font-size=\"14.00\" text-anchor=\"middle\" x=\"269\" y=\"-283.3\">entropy = 0.0</text>\n<text fill=\"#000000\" font-family=\"Times,serif\" font-size=\"14.00\" text-anchor=\"middle\" x=\"269\" y=\"-268.3\">samples = 9</text>\n<text fill=\"#000000\" font-family=\"Times,serif\" font-size=\"14.00\" text-anchor=\"middle\" x=\"269\" y=\"-253.3\">value = [0.0, 13.5]</text>\n<text fill=\"#000000\" font-family=\"Times,serif\" font-size=\"14.00\" text-anchor=\"middle\" x=\"269\" y=\"-238.3\">class = yes</text>\n</g>\n<!-- 0&#45;&gt;6 -->\n<g class=\"edge\" id=\"edge6\">\n<title>0-&gt;6</title>\n<path d=\"M220.8816,-341.8796C227.7879,-330.7735 235.2639,-318.7513 242.2175,-307.5691\" fill=\"none\" stroke=\"#000000\"/>\n<polygon fill=\"#000000\" points=\"245.3527,-309.1552 247.6613,-298.8149 239.4083,-305.4587 245.3527,-309.1552\" stroke=\"#000000\"/>\n<text fill=\"#000000\" font-family=\"Times,serif\" font-size=\"14.00\" text-anchor=\"middle\" x=\"253.3381\" y=\"-319.4619\">False</text>\n</g>\n<!-- 2 -->\n<g class=\"node\" id=\"node3\">\n<title>2</title>\n<polygon fill=\"#e58139\" points=\"102,-179.5 0,-179.5 0,-111.5 102,-111.5 102,-179.5\" stroke=\"#000000\"/>\n<text fill=\"#000000\" font-family=\"Times,serif\" font-size=\"14.00\" text-anchor=\"middle\" x=\"51\" y=\"-164.3\">entropy = 0.0</text>\n<text fill=\"#000000\" font-family=\"Times,serif\" font-size=\"14.00\" text-anchor=\"middle\" x=\"51\" y=\"-149.3\">samples = 9</text>\n<text fill=\"#000000\" font-family=\"Times,serif\" font-size=\"14.00\" text-anchor=\"middle\" x=\"51\" y=\"-134.3\">value = [18, 0]</text>\n<text fill=\"#000000\" font-family=\"Times,serif\" font-size=\"14.00\" text-anchor=\"middle\" x=\"51\" y=\"-119.3\">class = no</text>\n</g>\n<!-- 1&#45;&gt;2 -->\n<g class=\"edge\" id=\"edge2\">\n<title>1-&gt;2</title>\n<path d=\"M96.5174,-222.8796C89.9844,-211.7735 82.9125,-199.7513 76.3348,-188.5691\" fill=\"none\" stroke=\"#000000\"/>\n<polygon fill=\"#000000\" points=\"79.2723,-186.6597 71.1853,-179.8149 73.2387,-190.2089 79.2723,-186.6597\" stroke=\"#000000\"/>\n</g>\n<!-- 3 -->\n<g class=\"node\" id=\"node4\">\n<title>3</title>\n<polygon fill=\"#f8e0ce\" points=\"262,-187 120,-187 120,-104 262,-104 262,-187\" stroke=\"#000000\"/>\n<text fill=\"#000000\" font-family=\"Times,serif\" font-size=\"14.00\" text-anchor=\"middle\" x=\"191\" y=\"-171.8\">std_glucose &lt;= 1.356</text>\n<text fill=\"#000000\" font-family=\"Times,serif\" font-size=\"14.00\" text-anchor=\"middle\" x=\"191\" y=\"-156.8\">entropy = 0.985</text>\n<text fill=\"#000000\" font-family=\"Times,serif\" font-size=\"14.00\" text-anchor=\"middle\" x=\"191\" y=\"-141.8\">samples = 2</text>\n<text fill=\"#000000\" font-family=\"Times,serif\" font-size=\"14.00\" text-anchor=\"middle\" x=\"191\" y=\"-126.8\">value = [2.0, 1.5]</text>\n<text fill=\"#000000\" font-family=\"Times,serif\" font-size=\"14.00\" text-anchor=\"middle\" x=\"191\" y=\"-111.8\">class = no</text>\n</g>\n<!-- 1&#45;&gt;3 -->\n<g class=\"edge\" id=\"edge3\">\n<title>1-&gt;3</title>\n<path d=\"M145.4826,-222.8796C150.5685,-214.2335 155.9811,-205.0322 161.2328,-196.1042\" fill=\"none\" stroke=\"#000000\"/>\n<polygon fill=\"#000000\" points=\"164.3594,-197.692 166.4129,-187.2981 158.3259,-194.1428 164.3594,-197.692\" stroke=\"#000000\"/>\n</g>\n<!-- 4 -->\n<g class=\"node\" id=\"node5\">\n<title>4</title>\n<polygon fill=\"#399de5\" points=\"187.5,-68 70.5,-68 70.5,0 187.5,0 187.5,-68\" stroke=\"#000000\"/>\n<text fill=\"#000000\" font-family=\"Times,serif\" font-size=\"14.00\" text-anchor=\"middle\" x=\"129\" y=\"-52.8\">entropy = 0.0</text>\n<text fill=\"#000000\" font-family=\"Times,serif\" font-size=\"14.00\" text-anchor=\"middle\" x=\"129\" y=\"-37.8\">samples = 1</text>\n<text fill=\"#000000\" font-family=\"Times,serif\" font-size=\"14.00\" text-anchor=\"middle\" x=\"129\" y=\"-22.8\">value = [0.0, 1.5]</text>\n<text fill=\"#000000\" font-family=\"Times,serif\" font-size=\"14.00\" text-anchor=\"middle\" x=\"129\" y=\"-7.8\">class = yes</text>\n</g>\n<!-- 3&#45;&gt;4 -->\n<g class=\"edge\" id=\"edge4\">\n<title>3-&gt;4</title>\n<path d=\"M167.9135,-103.9815C163.0585,-95.2504 157.926,-86.0202 153.0371,-77.2281\" fill=\"none\" stroke=\"#000000\"/>\n<polygon fill=\"#000000\" points=\"155.9712,-75.3025 148.0524,-68.2637 149.8533,-78.7043 155.9712,-75.3025\" stroke=\"#000000\"/>\n</g>\n<!-- 5 -->\n<g class=\"node\" id=\"node6\">\n<title>5</title>\n<polygon fill=\"#e58139\" points=\"300.5,-68 205.5,-68 205.5,0 300.5,0 300.5,-68\" stroke=\"#000000\"/>\n<text fill=\"#000000\" font-family=\"Times,serif\" font-size=\"14.00\" text-anchor=\"middle\" x=\"253\" y=\"-52.8\">entropy = 0.0</text>\n<text fill=\"#000000\" font-family=\"Times,serif\" font-size=\"14.00\" text-anchor=\"middle\" x=\"253\" y=\"-37.8\">samples = 1</text>\n<text fill=\"#000000\" font-family=\"Times,serif\" font-size=\"14.00\" text-anchor=\"middle\" x=\"253\" y=\"-22.8\">value = [2, 0]</text>\n<text fill=\"#000000\" font-family=\"Times,serif\" font-size=\"14.00\" text-anchor=\"middle\" x=\"253\" y=\"-7.8\">class = no</text>\n</g>\n<!-- 3&#45;&gt;5 -->\n<g class=\"edge\" id=\"edge5\">\n<title>3-&gt;5</title>\n<path d=\"M214.0865,-103.9815C218.9415,-95.2504 224.074,-86.0202 228.9629,-77.2281\" fill=\"none\" stroke=\"#000000\"/>\n<polygon fill=\"#000000\" points=\"232.1467,-78.7043 233.9476,-68.2637 226.0288,-75.3025 232.1467,-78.7043\" stroke=\"#000000\"/>\n</g>\n</g>\n</svg>"
          },
          "metadata": {
            "tags": []
          }
        },
        {
          "output_type": "execute_result",
          "data": {
            "text/html": [
              "<style>svg{width:30% !important;height:30% !important;}</style>"
            ],
            "text/plain": [
              "<IPython.core.display.HTML object>"
            ]
          },
          "metadata": {
            "tags": []
          },
          "execution_count": 46
        }
      ]
    },
    {
      "cell_type": "markdown",
      "metadata": {
        "id": "nKS7ngEf2Mdt"
      },
      "source": [
        "#### Results are below"
      ]
    },
    {
      "cell_type": "code",
      "metadata": {
        "colab": {
          "base_uri": "https://localhost:8080/"
        },
        "id": "5A1mWjwsMsD9",
        "outputId": "44e4fee9-44c4-46b1-d289-c33d9b979552"
      },
      "source": [
        "X = df_train_normilize.loc[df_train_normilize['class']==0, ['std_glucose', 'std_oxygen']][10:]\n",
        "X1 = df_train_normilize.loc[df_train_normilize['class']==1, ['std_glucose', 'std_oxygen']][10:]\n",
        "X= pd.concat([X, X1])\n",
        "y = df_train_normilize.loc[df_train_normilize['class']==0, ['class']][10:]\n",
        "y1 = df_train_normilize.loc[df_train_normilize['class']==1, ['class']][10:]\n",
        "y= pd.concat([y, y1])\n",
        "y_res = cls.predict(X)\n",
        "print(\"Accuracy: \",accuracy_score(y, y_res))\n",
        "print(\"Precision: \",precision_score(y, y_res))\n",
        "print(\"Recall: \",recall_score(y, y_res))"
      ],
      "execution_count": null,
      "outputs": [
        {
          "output_type": "stream",
          "text": [
            "Accuracy:  0.7406380027739251\n",
            "Precision:  0.21495327102803738\n",
            "Recall:  0.7076923076923077\n"
          ],
          "name": "stdout"
        }
      ]
    },
    {
      "cell_type": "markdown",
      "metadata": {
        "id": "87YM7FWSsNZp"
      },
      "source": [
        "### Changing NaN values using KNN Imputer."
      ]
    },
    {
      "cell_type": "markdown",
      "metadata": {
        "id": "2ffaDFeB2QyH"
      },
      "source": [
        "#### Now we will use KNN Imputer for 'std_oxygen' and 'std_glucose'"
      ]
    },
    {
      "cell_type": "code",
      "metadata": {
        "id": "rkhlTujbL48z"
      },
      "source": [
        "def removeNAN_KNN(df_t):\n",
        "  KNN_imputer = KNNImputer(n_neighbors=5, weights='uniform', metric='nan_euclidean')\n",
        "  X_t =KNN_imputer.fit_transform(df_t[['std_glucose', 'class']])\n",
        "  df_t.std_glucose=X_t[:,0]\n",
        "\n",
        "  KNN_imputer = KNNImputer(n_neighbors=5, weights='uniform', metric='nan_euclidean')\n",
        "  X_t =KNN_imputer.fit_transform(df_t[['std_oxygen', 'class']])\n",
        "  df_t.std_oxygen=X_t[:,0]\n",
        "\n",
        "  return df_t\n"
      ],
      "execution_count": null,
      "outputs": []
    },
    {
      "cell_type": "code",
      "metadata": {
        "colab": {
          "base_uri": "https://localhost:8080/",
          "height": 1000
        },
        "id": "Qhxc5E7zOFb9",
        "outputId": "cd2dde82-a85d-48b2-b29e-27798fa11e6b"
      },
      "source": [
        "trans_duplicates = FunctionTransformer(remove_duplicates)\n",
        "trans_date = FunctionTransformer(dateformat_consistent)\n",
        "trans_age = FunctionTransformer(age_to_normal)\n",
        "trans_gender = FunctionTransformer(gender_to_normal)\n",
        "trans_pregnant = FunctionTransformer(pregnant_to_normal)\n",
        "trans_metrics = FunctionTransformer(removeNAN_KNN)\n",
        "trans_occupation = FunctionTransformer(occupation_to_normal)\n",
        "trans_personal_info = FunctionTransformer(personal_info_to_normal)\n",
        "trans_address = FunctionTransformer(address_to_normal)\n",
        "trans_others = FunctionTransformer(others_to_normal)\n",
        "trans_outliers = FunctionTransformer(change_outliers)\n",
        "trans_power = FunctionTransformer(power_t)\n",
        "trans_text = FunctionTransformer(text_normalize)\n",
        "\n",
        "sk_pipe = Pipeline([(\"duplicates\", trans_duplicates), \n",
        "                    (\"date\", trans_date),\n",
        "                    (\"age\", trans_age),\n",
        "                    (\"gender\", trans_gender),\n",
        "                    (\"pregnancy\", trans_pregnant),\n",
        "                    (\"occupation\", trans_occupation),\n",
        "                    (\"metrics\", trans_metrics),\n",
        "                    (\"personal_info\", trans_personal_info),\n",
        "                    (\"address\", trans_address),\n",
        "                    (\"others\", trans_others),\n",
        "                    (\"outliers\", trans_outliers),\n",
        "                    (\"power\", trans_power),\n",
        "                    (\"text\", trans_text)])\n",
        "df_train = load_data()\n",
        "df_train_normilize = sk_pipe.transform(df_train)\n",
        "df_train_normilize"
      ],
      "execution_count": null,
      "outputs": [
        {
          "output_type": "execute_result",
          "data": {
            "text/html": [
              "<div>\n",
              "<style scoped>\n",
              "    .dataframe tbody tr th:only-of-type {\n",
              "        vertical-align: middle;\n",
              "    }\n",
              "\n",
              "    .dataframe tbody tr th {\n",
              "        vertical-align: top;\n",
              "    }\n",
              "\n",
              "    .dataframe thead th {\n",
              "        text-align: right;\n",
              "    }\n",
              "</style>\n",
              "<table border=\"1\" class=\"dataframe\">\n",
              "  <thead>\n",
              "    <tr style=\"text-align: right;\">\n",
              "      <th></th>\n",
              "      <th>age</th>\n",
              "      <th>Male</th>\n",
              "      <th>kurtosis_oxygen</th>\n",
              "      <th>occupation</th>\n",
              "      <th>education-num</th>\n",
              "      <th>skewness_glucose</th>\n",
              "      <th>mean_glucose</th>\n",
              "      <th>std_oxygen</th>\n",
              "      <th>capital-gain</th>\n",
              "      <th>skewness_oxygen</th>\n",
              "      <th>kurtosis_glucose</th>\n",
              "      <th>fnlwgt</th>\n",
              "      <th>class</th>\n",
              "      <th>std_glucose</th>\n",
              "      <th>income&gt;50K</th>\n",
              "      <th>mean_oxygen</th>\n",
              "      <th>hours-per-week</th>\n",
              "      <th>capital-loss</th>\n",
              "      <th>workclass</th>\n",
              "      <th>country</th>\n",
              "    </tr>\n",
              "  </thead>\n",
              "  <tbody>\n",
              "    <tr>\n",
              "      <th>0</th>\n",
              "      <td>35</td>\n",
              "      <td>0</td>\n",
              "      <td>11.901183</td>\n",
              "      <td>[1, 0, 0, 0, 1, 0, 0, 0, 0, 0, 0, 0, 0, 0, 0, ...</td>\n",
              "      <td>10.0</td>\n",
              "      <td>1.100895</td>\n",
              "      <td>NaN</td>\n",
              "      <td>-1.709603</td>\n",
              "      <td>0.0</td>\n",
              "      <td>209.980131</td>\n",
              "      <td>0.538392</td>\n",
              "      <td>145656.0</td>\n",
              "      <td>0.0</td>\n",
              "      <td>-1.245527</td>\n",
              "      <td>0</td>\n",
              "      <td>1.657191</td>\n",
              "      <td>24.0</td>\n",
              "      <td>0.0</td>\n",
              "      <td>[0, 0, 0, 0, 0, 0, 1, 0, 0]</td>\n",
              "      <td>[0, 0, 0, 0, 0, 0, 0, 0, 0, 0, 0, 0, 0, 0, 0, ...</td>\n",
              "    </tr>\n",
              "    <tr>\n",
              "      <th>1</th>\n",
              "      <td>53</td>\n",
              "      <td>0</td>\n",
              "      <td>7.293155</td>\n",
              "      <td>[0, 0, 0, 0, 0, 0, 0, 0, 0, 0, 0, 0, 0, 0, 0, ...</td>\n",
              "      <td>9.0</td>\n",
              "      <td>0.627064</td>\n",
              "      <td>93.109375</td>\n",
              "      <td>0.670061</td>\n",
              "      <td>0.0</td>\n",
              "      <td>209.980131</td>\n",
              "      <td>0.445701</td>\n",
              "      <td>131068.0</td>\n",
              "      <td>0.0</td>\n",
              "      <td>-0.335976</td>\n",
              "      <td>0</td>\n",
              "      <td>3.896321</td>\n",
              "      <td>40.0</td>\n",
              "      <td>0.0</td>\n",
              "      <td>[0, 0, 0, 0, 0, 0, 1, 0, 0]</td>\n",
              "      <td>[0, 0, 0, 0, 0, 0, 0, 0, 0, 0, 0, 0, 0, 0, 0, ...</td>\n",
              "    </tr>\n",
              "    <tr>\n",
              "      <th>2</th>\n",
              "      <td>43</td>\n",
              "      <td>1</td>\n",
              "      <td>6.849557</td>\n",
              "      <td>[0, 0, 0, 0, 0, 1, 0, 0, 0, 0, 0, 0, 0, 0, 0, ...</td>\n",
              "      <td>13.0</td>\n",
              "      <td>0.132196</td>\n",
              "      <td>107.0546875</td>\n",
              "      <td>0.071887</td>\n",
              "      <td>0.0</td>\n",
              "      <td>55.304186</td>\n",
              "      <td>0.244217</td>\n",
              "      <td>156800.0</td>\n",
              "      <td>0.0</td>\n",
              "      <td>-0.475976</td>\n",
              "      <td>0</td>\n",
              "      <td>3.598662</td>\n",
              "      <td>50.0</td>\n",
              "      <td>0.0</td>\n",
              "      <td>[1, 0, 0, 1, 0, 1, 0, 1, 0]</td>\n",
              "      <td>[0, 0, 0, 0, 0, 0, 0, 0, 0, 0, 0, 0, 0, 0, 0, ...</td>\n",
              "    </tr>\n",
              "    <tr>\n",
              "      <th>3</th>\n",
              "      <td>46</td>\n",
              "      <td>1</td>\n",
              "      <td>10.839312</td>\n",
              "      <td>[0, 0, 0, 0, 0, 0, 0, 0, 0, 0, 0, 0, 0, 0, 0, ...</td>\n",
              "      <td>11.0</td>\n",
              "      <td>-0.146138</td>\n",
              "      <td>109.328125</td>\n",
              "      <td>-0.757267</td>\n",
              "      <td>0.0</td>\n",
              "      <td>209.980131</td>\n",
              "      <td>0.380494</td>\n",
              "      <td>306352.0</td>\n",
              "      <td>0.0</td>\n",
              "      <td>0.884352</td>\n",
              "      <td>0</td>\n",
              "      <td>2.132107</td>\n",
              "      <td>40.0</td>\n",
              "      <td>0.0</td>\n",
              "      <td>[0, 0, 0, 0, 0, 0, 1, 0, 0]</td>\n",
              "      <td>[0, 0, 0, 0, 0, 0, 0, 0, 0, 0, 1, 0, 0, 0, 0, ...</td>\n",
              "    </tr>\n",
              "    <tr>\n",
              "      <th>4</th>\n",
              "      <td>52</td>\n",
              "      <td>1</td>\n",
              "      <td>7.153364</td>\n",
              "      <td>[0, 0, 0, 0, 0, 0, 0, 0, 0, 0, 0, 0, 0, 0, 0, ...</td>\n",
              "      <td>10.0</td>\n",
              "      <td>0.891195</td>\n",
              "      <td>NaN</td>\n",
              "      <td>0.554452</td>\n",
              "      <td>0.0</td>\n",
              "      <td>55.738168</td>\n",
              "      <td>0.320338</td>\n",
              "      <td>311177.0</td>\n",
              "      <td>0.0</td>\n",
              "      <td>-1.118334</td>\n",
              "      <td>0</td>\n",
              "      <td>3.721572</td>\n",
              "      <td>30.0</td>\n",
              "      <td>0.0</td>\n",
              "      <td>[1, 0, 0, 1, 0, 1, 0, 1, 0]</td>\n",
              "      <td>[0, 0, 0, 0, 0, 0, 0, 0, 0, 0, 0, 0, 0, 0, 0, ...</td>\n",
              "    </tr>\n",
              "    <tr>\n",
              "      <th>...</th>\n",
              "      <td>...</td>\n",
              "      <td>...</td>\n",
              "      <td>...</td>\n",
              "      <td>...</td>\n",
              "      <td>...</td>\n",
              "      <td>...</td>\n",
              "      <td>...</td>\n",
              "      <td>...</td>\n",
              "      <td>...</td>\n",
              "      <td>...</td>\n",
              "      <td>...</td>\n",
              "      <td>...</td>\n",
              "      <td>...</td>\n",
              "      <td>...</td>\n",
              "      <td>...</td>\n",
              "      <td>...</td>\n",
              "      <td>...</td>\n",
              "      <td>...</td>\n",
              "      <td>...</td>\n",
              "      <td>...</td>\n",
              "    </tr>\n",
              "    <tr>\n",
              "      <th>736</th>\n",
              "      <td>43</td>\n",
              "      <td>1</td>\n",
              "      <td>8.480384</td>\n",
              "      <td>[1, 0, 0, 0, 1, 0, 0, 0, 0, 0, 0, 0, 0, 0, 0, ...</td>\n",
              "      <td>10.0</td>\n",
              "      <td>0.074881</td>\n",
              "      <td>118.7890625</td>\n",
              "      <td>-0.930520</td>\n",
              "      <td>0.0</td>\n",
              "      <td>209.980131</td>\n",
              "      <td>0.160317</td>\n",
              "      <td>107190.0</td>\n",
              "      <td>0.0</td>\n",
              "      <td>-0.226072</td>\n",
              "      <td>0</td>\n",
              "      <td>2.751672</td>\n",
              "      <td>20.0</td>\n",
              "      <td>0.0</td>\n",
              "      <td>[0, 0, 0, 0, 0, 0, 1, 0, 0]</td>\n",
              "      <td>[0, 0, 0, 0, 0, 0, 0, 0, 0, 0, 0, 0, 0, 0, 0, ...</td>\n",
              "    </tr>\n",
              "    <tr>\n",
              "      <th>737</th>\n",
              "      <td>43</td>\n",
              "      <td>1</td>\n",
              "      <td>10.590977</td>\n",
              "      <td>[0, 0, 0, 0, 0, 0, 0, 0, 0, 0, 0, 0, 0, 0, 0, ...</td>\n",
              "      <td>14.0</td>\n",
              "      <td>0.698647</td>\n",
              "      <td>121.859375</td>\n",
              "      <td>-1.553557</td>\n",
              "      <td>0.0</td>\n",
              "      <td>209.980131</td>\n",
              "      <td>0.247989</td>\n",
              "      <td>107302.0</td>\n",
              "      <td>0.0</td>\n",
              "      <td>-0.821247</td>\n",
              "      <td>0</td>\n",
              "      <td>2.071906</td>\n",
              "      <td>40.0</td>\n",
              "      <td>0.0</td>\n",
              "      <td>[0, 0, 0, 0, 0, 0, 1, 0, 0]</td>\n",
              "      <td>[0, 0, 0, 0, 0, 0, 0, 0, 1, 0, 0, 0, 0, 0, 0, ...</td>\n",
              "    </tr>\n",
              "    <tr>\n",
              "      <th>738</th>\n",
              "      <td>59</td>\n",
              "      <td>1</td>\n",
              "      <td>8.721704</td>\n",
              "      <td>[0, 0, 0, 0, 0, 0, 0, 0, 0, 0, 0, 0, 0, 0, 0, ...</td>\n",
              "      <td>10.0</td>\n",
              "      <td>-0.035706</td>\n",
              "      <td>121.1015625</td>\n",
              "      <td>-0.699732</td>\n",
              "      <td>0.0</td>\n",
              "      <td>209.980131</td>\n",
              "      <td>0.236479</td>\n",
              "      <td>189530.0</td>\n",
              "      <td>0.0</td>\n",
              "      <td>-0.762749</td>\n",
              "      <td>0</td>\n",
              "      <td>2.572742</td>\n",
              "      <td>35.0</td>\n",
              "      <td>0.0</td>\n",
              "      <td>[0, 0, 0, 0, 0, 0, 1, 0, 0]</td>\n",
              "      <td>[0, 0, 0, 0, 0, 0, 0, 0, 0, 0, 0, 0, 0, 0, 0, ...</td>\n",
              "    </tr>\n",
              "    <tr>\n",
              "      <th>739</th>\n",
              "      <td>45</td>\n",
              "      <td>0</td>\n",
              "      <td>5.193876</td>\n",
              "      <td>[0, 0, 0, 0, 0, 0, 0, 0, 0, 0, 0, 0, 0, 0, 0, ...</td>\n",
              "      <td>9.0</td>\n",
              "      <td>0.177381</td>\n",
              "      <td>NaN</td>\n",
              "      <td>0.453913</td>\n",
              "      <td>0.0</td>\n",
              "      <td>33.179282</td>\n",
              "      <td>0.075181</td>\n",
              "      <td>105281.0</td>\n",
              "      <td>0.0</td>\n",
              "      <td>0.143274</td>\n",
              "      <td>0</td>\n",
              "      <td>5.558528</td>\n",
              "      <td>40.0</td>\n",
              "      <td>1974.0</td>\n",
              "      <td>[0, 0, 0, 0, 0, 0, 1, 0, 0]</td>\n",
              "      <td>[0, 0, 0, 0, 0, 0, 0, 0, 0, 0, 0, 0, 0, 0, 0, ...</td>\n",
              "    </tr>\n",
              "    <tr>\n",
              "      <th>740</th>\n",
              "      <td>43</td>\n",
              "      <td>1</td>\n",
              "      <td>10.915093</td>\n",
              "      <td>[0, 0, 0, 0, 0, 1, 0, 0, 0, 0, 0, 0, 0, 0, 0, ...</td>\n",
              "      <td>4.0</td>\n",
              "      <td>-0.070660</td>\n",
              "      <td>124.015625</td>\n",
              "      <td>-1.271462</td>\n",
              "      <td>0.0</td>\n",
              "      <td>209.980131</td>\n",
              "      <td>-0.059286</td>\n",
              "      <td>33186.0</td>\n",
              "      <td>0.0</td>\n",
              "      <td>0.485480</td>\n",
              "      <td>0</td>\n",
              "      <td>1.689799</td>\n",
              "      <td>60.0</td>\n",
              "      <td>0.0</td>\n",
              "      <td>[0, 0, 0, 0, 0, 0, 1, 0, 0]</td>\n",
              "      <td>[0, 0, 0, 0, 0, 0, 0, 0, 0, 0, 0, 0, 0, 0, 0, ...</td>\n",
              "    </tr>\n",
              "  </tbody>\n",
              "</table>\n",
              "<p>741 rows × 20 columns</p>\n",
              "</div>"
            ],
            "text/plain": [
              "     age  ...                                            country\n",
              "0     35  ...  [0, 0, 0, 0, 0, 0, 0, 0, 0, 0, 0, 0, 0, 0, 0, ...\n",
              "1     53  ...  [0, 0, 0, 0, 0, 0, 0, 0, 0, 0, 0, 0, 0, 0, 0, ...\n",
              "2     43  ...  [0, 0, 0, 0, 0, 0, 0, 0, 0, 0, 0, 0, 0, 0, 0, ...\n",
              "3     46  ...  [0, 0, 0, 0, 0, 0, 0, 0, 0, 0, 1, 0, 0, 0, 0, ...\n",
              "4     52  ...  [0, 0, 0, 0, 0, 0, 0, 0, 0, 0, 0, 0, 0, 0, 0, ...\n",
              "..   ...  ...                                                ...\n",
              "736   43  ...  [0, 0, 0, 0, 0, 0, 0, 0, 0, 0, 0, 0, 0, 0, 0, ...\n",
              "737   43  ...  [0, 0, 0, 0, 0, 0, 0, 0, 1, 0, 0, 0, 0, 0, 0, ...\n",
              "738   59  ...  [0, 0, 0, 0, 0, 0, 0, 0, 0, 0, 0, 0, 0, 0, 0, ...\n",
              "739   45  ...  [0, 0, 0, 0, 0, 0, 0, 0, 0, 0, 0, 0, 0, 0, 0, ...\n",
              "740   43  ...  [0, 0, 0, 0, 0, 0, 0, 0, 0, 0, 0, 0, 0, 0, 0, ...\n",
              "\n",
              "[741 rows x 20 columns]"
            ]
          },
          "metadata": {
            "tags": []
          },
          "execution_count": 49
        }
      ]
    },
    {
      "cell_type": "markdown",
      "metadata": {
        "id": "gKowiCuY2Zt0"
      },
      "source": [
        "#### Here is training using the same amount of data"
      ]
    },
    {
      "cell_type": "code",
      "metadata": {
        "colab": {
          "base_uri": "https://localhost:8080/"
        },
        "id": "uy0274a2OKsq",
        "outputId": "331a0749-ff8f-405a-c0d5-439c353be9a6"
      },
      "source": [
        "cls = DecisionTreeClassifier(criterion='entropy', class_weight= {0: 2, 1: 1.5})\n",
        "df0 = df_train_normilize.loc[df_train_normilize['class']==0][:10]\n",
        "df1 = df_train_normilize.loc[df_train_normilize['class']==1][:10]\n",
        "df = pd.concat([df0, df1])\n",
        "X = df[['std_glucose', 'std_oxygen']]\n",
        "y = df[['class']]\n",
        "cls.fit(X, y)"
      ],
      "execution_count": null,
      "outputs": [
        {
          "output_type": "execute_result",
          "data": {
            "text/plain": [
              "DecisionTreeClassifier(ccp_alpha=0.0, class_weight={0: 2, 1: 1.5},\n",
              "                       criterion='entropy', max_depth=None, max_features=None,\n",
              "                       max_leaf_nodes=None, min_impurity_decrease=0.0,\n",
              "                       min_impurity_split=None, min_samples_leaf=1,\n",
              "                       min_samples_split=2, min_weight_fraction_leaf=0.0,\n",
              "                       presort='deprecated', random_state=None,\n",
              "                       splitter='best')"
            ]
          },
          "metadata": {
            "tags": []
          },
          "execution_count": 50
        }
      ]
    },
    {
      "cell_type": "code",
      "metadata": {
        "colab": {
          "base_uri": "https://localhost:8080/",
          "height": 413
        },
        "id": "dar19iWUOLGT",
        "outputId": "884bac38-7e8d-4afc-f978-c2ca755320c1"
      },
      "source": [
        "graph = Source(export_graphviz(cls, \n",
        "                               out_file=None,\n",
        "                               feature_names=['std_glucose', 'std_oxygen'],\n",
        "                               class_names=['no', 'yes'],\n",
        "                               filled = True))\n",
        "display(SVG(graph.pipe(format='svg')))\n",
        "\n",
        "style = \"<style>svg{width:30% !important;height:30% !important;}</style>\"\n",
        "HTML(style)"
      ],
      "execution_count": null,
      "outputs": [
        {
          "output_type": "display_data",
          "data": {
            "text/plain": [
              "<IPython.core.display.SVG object>"
            ],
            "image/svg+xml": "<svg height=\"433pt\" viewBox=\"0.00 0.00 339.50 433.00\" width=\"340pt\" xmlns=\"http://www.w3.org/2000/svg\" xmlns:xlink=\"http://www.w3.org/1999/xlink\">\n<g class=\"graph\" id=\"graph0\" transform=\"scale(1 1) rotate(0) translate(4 429)\">\n<title>Tree</title>\n<polygon fill=\"#ffffff\" points=\"-4,4 -4,-429 335.5,-429 335.5,4 -4,4\" stroke=\"transparent\"/>\n<!-- 0 -->\n<g class=\"node\" id=\"node1\">\n<title>0</title>\n<polygon fill=\"#f8e0ce\" points=\"266,-425 124,-425 124,-342 266,-342 266,-425\" stroke=\"#000000\"/>\n<text fill=\"#000000\" font-family=\"Times,serif\" font-size=\"14.00\" text-anchor=\"middle\" x=\"195\" y=\"-409.8\">std_oxygen &lt;= 0.847</text>\n<text fill=\"#000000\" font-family=\"Times,serif\" font-size=\"14.00\" text-anchor=\"middle\" x=\"195\" y=\"-394.8\">entropy = 0.985</text>\n<text fill=\"#000000\" font-family=\"Times,serif\" font-size=\"14.00\" text-anchor=\"middle\" x=\"195\" y=\"-379.8\">samples = 20</text>\n<text fill=\"#000000\" font-family=\"Times,serif\" font-size=\"14.00\" text-anchor=\"middle\" x=\"195\" y=\"-364.8\">value = [20, 15]</text>\n<text fill=\"#000000\" font-family=\"Times,serif\" font-size=\"14.00\" text-anchor=\"middle\" x=\"195\" y=\"-349.8\">class = no</text>\n</g>\n<!-- 1 -->\n<g class=\"node\" id=\"node2\">\n<title>1</title>\n<polygon fill=\"#e78a48\" points=\"188,-306 54,-306 54,-223 188,-223 188,-306\" stroke=\"#000000\"/>\n<text fill=\"#000000\" font-family=\"Times,serif\" font-size=\"14.00\" text-anchor=\"middle\" x=\"121\" y=\"-290.8\">std_glucose &lt;= 1.04</text>\n<text fill=\"#000000\" font-family=\"Times,serif\" font-size=\"14.00\" text-anchor=\"middle\" x=\"121\" y=\"-275.8\">entropy = 0.365</text>\n<text fill=\"#000000\" font-family=\"Times,serif\" font-size=\"14.00\" text-anchor=\"middle\" x=\"121\" y=\"-260.8\">samples = 11</text>\n<text fill=\"#000000\" font-family=\"Times,serif\" font-size=\"14.00\" text-anchor=\"middle\" x=\"121\" y=\"-245.8\">value = [20.0, 1.5]</text>\n<text fill=\"#000000\" font-family=\"Times,serif\" font-size=\"14.00\" text-anchor=\"middle\" x=\"121\" y=\"-230.8\">class = no</text>\n</g>\n<!-- 0&#45;&gt;1 -->\n<g class=\"edge\" id=\"edge1\">\n<title>0-&gt;1</title>\n<path d=\"M169.1184,-341.8796C163.6858,-333.1434 157.9008,-323.8404 152.2947,-314.8253\" fill=\"none\" stroke=\"#000000\"/>\n<polygon fill=\"#000000\" points=\"155.2451,-312.9418 146.9921,-306.2981 149.3007,-316.6383 155.2451,-312.9418\" stroke=\"#000000\"/>\n<text fill=\"#000000\" font-family=\"Times,serif\" font-size=\"14.00\" text-anchor=\"middle\" x=\"141.3153\" y=\"-326.945\">True</text>\n</g>\n<!-- 6 -->\n<g class=\"node\" id=\"node7\">\n<title>6</title>\n<polygon fill=\"#399de5\" points=\"331.5,-298.5 206.5,-298.5 206.5,-230.5 331.5,-230.5 331.5,-298.5\" stroke=\"#000000\"/>\n<text fill=\"#000000\" font-family=\"Times,serif\" font-size=\"14.00\" text-anchor=\"middle\" x=\"269\" y=\"-283.3\">entropy = 0.0</text>\n<text fill=\"#000000\" font-family=\"Times,serif\" font-size=\"14.00\" text-anchor=\"middle\" x=\"269\" y=\"-268.3\">samples = 9</text>\n<text fill=\"#000000\" font-family=\"Times,serif\" font-size=\"14.00\" text-anchor=\"middle\" x=\"269\" y=\"-253.3\">value = [0.0, 13.5]</text>\n<text fill=\"#000000\" font-family=\"Times,serif\" font-size=\"14.00\" text-anchor=\"middle\" x=\"269\" y=\"-238.3\">class = yes</text>\n</g>\n<!-- 0&#45;&gt;6 -->\n<g class=\"edge\" id=\"edge6\">\n<title>0-&gt;6</title>\n<path d=\"M220.8816,-341.8796C227.7879,-330.7735 235.2639,-318.7513 242.2175,-307.5691\" fill=\"none\" stroke=\"#000000\"/>\n<polygon fill=\"#000000\" points=\"245.3527,-309.1552 247.6613,-298.8149 239.4083,-305.4587 245.3527,-309.1552\" stroke=\"#000000\"/>\n<text fill=\"#000000\" font-family=\"Times,serif\" font-size=\"14.00\" text-anchor=\"middle\" x=\"253.3381\" y=\"-319.4619\">False</text>\n</g>\n<!-- 2 -->\n<g class=\"node\" id=\"node3\">\n<title>2</title>\n<polygon fill=\"#e58139\" points=\"102,-179.5 0,-179.5 0,-111.5 102,-111.5 102,-179.5\" stroke=\"#000000\"/>\n<text fill=\"#000000\" font-family=\"Times,serif\" font-size=\"14.00\" text-anchor=\"middle\" x=\"51\" y=\"-164.3\">entropy = 0.0</text>\n<text fill=\"#000000\" font-family=\"Times,serif\" font-size=\"14.00\" text-anchor=\"middle\" x=\"51\" y=\"-149.3\">samples = 9</text>\n<text fill=\"#000000\" font-family=\"Times,serif\" font-size=\"14.00\" text-anchor=\"middle\" x=\"51\" y=\"-134.3\">value = [18, 0]</text>\n<text fill=\"#000000\" font-family=\"Times,serif\" font-size=\"14.00\" text-anchor=\"middle\" x=\"51\" y=\"-119.3\">class = no</text>\n</g>\n<!-- 1&#45;&gt;2 -->\n<g class=\"edge\" id=\"edge2\">\n<title>1-&gt;2</title>\n<path d=\"M96.5174,-222.8796C89.9844,-211.7735 82.9125,-199.7513 76.3348,-188.5691\" fill=\"none\" stroke=\"#000000\"/>\n<polygon fill=\"#000000\" points=\"79.2723,-186.6597 71.1853,-179.8149 73.2387,-190.2089 79.2723,-186.6597\" stroke=\"#000000\"/>\n</g>\n<!-- 3 -->\n<g class=\"node\" id=\"node4\">\n<title>3</title>\n<polygon fill=\"#f8e0ce\" points=\"262,-187 120,-187 120,-104 262,-104 262,-187\" stroke=\"#000000\"/>\n<text fill=\"#000000\" font-family=\"Times,serif\" font-size=\"14.00\" text-anchor=\"middle\" x=\"191\" y=\"-171.8\">std_glucose &lt;= 1.356</text>\n<text fill=\"#000000\" font-family=\"Times,serif\" font-size=\"14.00\" text-anchor=\"middle\" x=\"191\" y=\"-156.8\">entropy = 0.985</text>\n<text fill=\"#000000\" font-family=\"Times,serif\" font-size=\"14.00\" text-anchor=\"middle\" x=\"191\" y=\"-141.8\">samples = 2</text>\n<text fill=\"#000000\" font-family=\"Times,serif\" font-size=\"14.00\" text-anchor=\"middle\" x=\"191\" y=\"-126.8\">value = [2.0, 1.5]</text>\n<text fill=\"#000000\" font-family=\"Times,serif\" font-size=\"14.00\" text-anchor=\"middle\" x=\"191\" y=\"-111.8\">class = no</text>\n</g>\n<!-- 1&#45;&gt;3 -->\n<g class=\"edge\" id=\"edge3\">\n<title>1-&gt;3</title>\n<path d=\"M145.4826,-222.8796C150.5685,-214.2335 155.9811,-205.0322 161.2328,-196.1042\" fill=\"none\" stroke=\"#000000\"/>\n<polygon fill=\"#000000\" points=\"164.3594,-197.692 166.4129,-187.2981 158.3259,-194.1428 164.3594,-197.692\" stroke=\"#000000\"/>\n</g>\n<!-- 4 -->\n<g class=\"node\" id=\"node5\">\n<title>4</title>\n<polygon fill=\"#399de5\" points=\"187.5,-68 70.5,-68 70.5,0 187.5,0 187.5,-68\" stroke=\"#000000\"/>\n<text fill=\"#000000\" font-family=\"Times,serif\" font-size=\"14.00\" text-anchor=\"middle\" x=\"129\" y=\"-52.8\">entropy = 0.0</text>\n<text fill=\"#000000\" font-family=\"Times,serif\" font-size=\"14.00\" text-anchor=\"middle\" x=\"129\" y=\"-37.8\">samples = 1</text>\n<text fill=\"#000000\" font-family=\"Times,serif\" font-size=\"14.00\" text-anchor=\"middle\" x=\"129\" y=\"-22.8\">value = [0.0, 1.5]</text>\n<text fill=\"#000000\" font-family=\"Times,serif\" font-size=\"14.00\" text-anchor=\"middle\" x=\"129\" y=\"-7.8\">class = yes</text>\n</g>\n<!-- 3&#45;&gt;4 -->\n<g class=\"edge\" id=\"edge4\">\n<title>3-&gt;4</title>\n<path d=\"M167.9135,-103.9815C163.0585,-95.2504 157.926,-86.0202 153.0371,-77.2281\" fill=\"none\" stroke=\"#000000\"/>\n<polygon fill=\"#000000\" points=\"155.9712,-75.3025 148.0524,-68.2637 149.8533,-78.7043 155.9712,-75.3025\" stroke=\"#000000\"/>\n</g>\n<!-- 5 -->\n<g class=\"node\" id=\"node6\">\n<title>5</title>\n<polygon fill=\"#e58139\" points=\"300.5,-68 205.5,-68 205.5,0 300.5,0 300.5,-68\" stroke=\"#000000\"/>\n<text fill=\"#000000\" font-family=\"Times,serif\" font-size=\"14.00\" text-anchor=\"middle\" x=\"253\" y=\"-52.8\">entropy = 0.0</text>\n<text fill=\"#000000\" font-family=\"Times,serif\" font-size=\"14.00\" text-anchor=\"middle\" x=\"253\" y=\"-37.8\">samples = 1</text>\n<text fill=\"#000000\" font-family=\"Times,serif\" font-size=\"14.00\" text-anchor=\"middle\" x=\"253\" y=\"-22.8\">value = [2, 0]</text>\n<text fill=\"#000000\" font-family=\"Times,serif\" font-size=\"14.00\" text-anchor=\"middle\" x=\"253\" y=\"-7.8\">class = no</text>\n</g>\n<!-- 3&#45;&gt;5 -->\n<g class=\"edge\" id=\"edge5\">\n<title>3-&gt;5</title>\n<path d=\"M214.0865,-103.9815C218.9415,-95.2504 224.074,-86.0202 228.9629,-77.2281\" fill=\"none\" stroke=\"#000000\"/>\n<polygon fill=\"#000000\" points=\"232.1467,-78.7043 233.9476,-68.2637 226.0288,-75.3025 232.1467,-78.7043\" stroke=\"#000000\"/>\n</g>\n</g>\n</svg>"
          },
          "metadata": {
            "tags": []
          }
        },
        {
          "output_type": "execute_result",
          "data": {
            "text/html": [
              "<style>svg{width:30% !important;height:30% !important;}</style>"
            ],
            "text/plain": [
              "<IPython.core.display.HTML object>"
            ]
          },
          "metadata": {
            "tags": []
          },
          "execution_count": 51
        }
      ]
    },
    {
      "cell_type": "markdown",
      "metadata": {
        "id": "7oDuDH5V2l9Z"
      },
      "source": [
        "#### Results are below"
      ]
    },
    {
      "cell_type": "code",
      "metadata": {
        "colab": {
          "base_uri": "https://localhost:8080/"
        },
        "id": "q3Pyz14vOOaH",
        "outputId": "69ed7365-2c27-4244-8b26-a1db78429c01"
      },
      "source": [
        "X = df_train_normilize.loc[df_train_normilize['class']==0, ['std_glucose', 'std_oxygen']][10:]\n",
        "X1 = df_train_normilize.loc[df_train_normilize['class']==1, ['std_glucose', 'std_oxygen']][10:]\n",
        "X= pd.concat([X, X1])\n",
        "y = df_train_normilize.loc[df_train_normilize['class']==0, ['class']][10:]\n",
        "y1 = df_train_normilize.loc[df_train_normilize['class']==1, ['class']][10:]\n",
        "y= pd.concat([y, y1])\n",
        "y_res = cls.predict(X)\n",
        "print(\"Accuracy: \",accuracy_score(y, y_res))\n",
        "print(\"Precision: \",precision_score(y, y_res))\n",
        "print(\"Recall: \",recall_score(y, y_res))"
      ],
      "execution_count": null,
      "outputs": [
        {
          "output_type": "stream",
          "text": [
            "Accuracy:  0.7406380027739251\n",
            "Precision:  0.21495327102803738\n",
            "Recall:  0.7076923076923077\n"
          ],
          "name": "stdout"
        }
      ]
    },
    {
      "cell_type": "markdown",
      "metadata": {
        "id": "ulEHNy3d2pqn"
      },
      "source": [
        "### As we can see, even though there were too little NaN values which we changed, using KNN Imputer gives us higher accuracy and precision scores. Consequently, it is better to use KNN Imputer."
      ]
    }
  ]
}